{
 "cells": [
  {
   "cell_type": "markdown",
   "metadata": {},
   "source": [
    "# initial config"
   ]
  },
  {
   "cell_type": "code",
   "execution_count": 17,
   "metadata": {},
   "outputs": [],
   "source": [
    "host = \"10.41.105.190\"\n",
    "port = 830\n",
    "user = \"admin_user\"\n",
    "password = \"Ericsson1234\"\n",
    "ROW_LENGTH = 160\n",
    "\n",
    "import traceback\n",
    "import xml.dom.minidom\n",
    "import chime\n",
    "from ncclient import manager\n",
    "from ncclient.xml_ import to_ele\n",
    "\n",
    "def print_formatted(string):\n",
    "    print(\"printing formatted str: \" + str(string))\n",
    "    try:\n",
    "        print(xml.dom.minidom.parseString(string).toprettyxml())\n",
    "    except Exception:\n",
    "        print(\"Exception while printing xml dom\")\n",
    "        traceback.print_exc()\n",
    "        print(\"Trying to print simplified version\")\n",
    "        print_simplified(string)\n",
    "\n",
    "\n",
    "def print_simplified(string):\n",
    "    row = \"\"\n",
    "    index = 0\n",
    "    if len(string) < ROW_LENGTH:\n",
    "        print(string)\n",
    "    else:\n",
    "        for ch in string:\n",
    "            if index < ROW_LENGTH:\n",
    "                row += (ch)\n",
    "                index += 1\n",
    "            else:\n",
    "                print(row)\n",
    "                index = 0\n",
    "                row = \"\"\n",
    "try:\n",
    "    m = manager.connect(host=host, port=port, username=user, password=password, hostkey_verify=False)\n",
    "    chime.success()\n",
    "except Exception as e:\n",
    "    chime.error()"
   ]
  },
  {
   "cell_type": "code",
   "execution_count": 25,
   "metadata": {},
   "outputs": [
    {
     "ename": "TimeoutExpiredError",
     "evalue": "ncclient timed out while waiting for an rpc reply.",
     "output_type": "error",
     "traceback": [
      "\u001b[0;31m---------------------------------------------------------------------------\u001b[0m",
      "\u001b[0;31mTimeoutExpiredError\u001b[0m                       Traceback (most recent call last)",
      "Cell \u001b[0;32mIn[25], line 6\u001b[0m\n\u001b[1;32m      1\u001b[0m message \u001b[38;5;241m=\u001b[39m \u001b[38;5;124m'''\u001b[39m\u001b[38;5;124m<nc:get xmlns:nc=\u001b[39m\u001b[38;5;124m\"\u001b[39m\u001b[38;5;124murn:ietf:params:xml:ns:netconf:base:1.0\u001b[39m\u001b[38;5;124m\"\u001b[39m\u001b[38;5;124m>\u001b[39m\n\u001b[1;32m      2\u001b[0m \u001b[38;5;124m  <nc:filter type=\u001b[39m\u001b[38;5;124m\"\u001b[39m\u001b[38;5;124msubtree\u001b[39m\u001b[38;5;124m\"\u001b[39m\u001b[38;5;124m>\u001b[39m\n\u001b[1;32m      3\u001b[0m \u001b[38;5;124m    <if:interfaces xmlns:if=\u001b[39m\u001b[38;5;124m\"\u001b[39m\u001b[38;5;124murn:ietf:params:xml:ns:yang:ietf-interfaces\u001b[39m\u001b[38;5;124m\"\u001b[39m\u001b[38;5;124m/>\u001b[39m\n\u001b[1;32m      4\u001b[0m \u001b[38;5;124m  </nc:filter>\u001b[39m\n\u001b[1;32m      5\u001b[0m \u001b[38;5;124m</nc:get>\u001b[39m\u001b[38;5;124m'''\u001b[39m\n\u001b[0;32m----> 6\u001b[0m response \u001b[38;5;241m=\u001b[39m \u001b[43mm\u001b[49m\u001b[38;5;241;43m.\u001b[39;49m\u001b[43mdispatch\u001b[49m\u001b[43m(\u001b[49m\u001b[43mto_ele\u001b[49m\u001b[43m(\u001b[49m\u001b[43mmessage\u001b[49m\u001b[43m)\u001b[49m\u001b[43m)\u001b[49m\n\u001b[1;32m      7\u001b[0m print_formatted(response\u001b[38;5;241m.\u001b[39mxml)\n",
      "File \u001b[0;32m~/Desktop/yang_files/.venv/lib/python3.12/site-packages/ncclient/manager.py:257\u001b[0m, in \u001b[0;36mManager.execute\u001b[0;34m(self, cls, *args, **kwds)\u001b[0m\n\u001b[1;32m    256\u001b[0m \u001b[38;5;28;01mdef\u001b[39;00m \u001b[38;5;21mexecute\u001b[39m(\u001b[38;5;28mself\u001b[39m, \u001b[38;5;28mcls\u001b[39m, \u001b[38;5;241m*\u001b[39margs, \u001b[38;5;241m*\u001b[39m\u001b[38;5;241m*\u001b[39mkwds):\n\u001b[0;32m--> 257\u001b[0m     \u001b[38;5;28;01mreturn\u001b[39;00m \u001b[38;5;28;43mcls\u001b[39;49m\u001b[43m(\u001b[49m\u001b[38;5;28;43mself\u001b[39;49m\u001b[38;5;241;43m.\u001b[39;49m\u001b[43m_session\u001b[49m\u001b[43m,\u001b[49m\n\u001b[1;32m    258\u001b[0m \u001b[43m               \u001b[49m\u001b[43mdevice_handler\u001b[49m\u001b[38;5;241;43m=\u001b[39;49m\u001b[38;5;28;43mself\u001b[39;49m\u001b[38;5;241;43m.\u001b[39;49m\u001b[43m_device_handler\u001b[49m\u001b[43m,\u001b[49m\n\u001b[1;32m    259\u001b[0m \u001b[43m               \u001b[49m\u001b[43masync_mode\u001b[49m\u001b[38;5;241;43m=\u001b[39;49m\u001b[38;5;28;43mself\u001b[39;49m\u001b[38;5;241;43m.\u001b[39;49m\u001b[43m_async_mode\u001b[49m\u001b[43m,\u001b[49m\n\u001b[1;32m    260\u001b[0m \u001b[43m               \u001b[49m\u001b[43mtimeout\u001b[49m\u001b[38;5;241;43m=\u001b[39;49m\u001b[38;5;28;43mself\u001b[39;49m\u001b[38;5;241;43m.\u001b[39;49m\u001b[43m_timeout\u001b[49m\u001b[43m,\u001b[49m\n\u001b[1;32m    261\u001b[0m \u001b[43m               \u001b[49m\u001b[43mraise_mode\u001b[49m\u001b[38;5;241;43m=\u001b[39;49m\u001b[38;5;28;43mself\u001b[39;49m\u001b[38;5;241;43m.\u001b[39;49m\u001b[43m_raise_mode\u001b[49m\u001b[43m,\u001b[49m\n\u001b[1;32m    262\u001b[0m \u001b[43m               \u001b[49m\u001b[43mhuge_tree\u001b[49m\u001b[38;5;241;43m=\u001b[39;49m\u001b[38;5;28;43mself\u001b[39;49m\u001b[38;5;241;43m.\u001b[39;49m\u001b[43m_huge_tree\u001b[49m\u001b[43m)\u001b[49m\u001b[38;5;241;43m.\u001b[39;49m\u001b[43mrequest\u001b[49m\u001b[43m(\u001b[49m\u001b[38;5;241;43m*\u001b[39;49m\u001b[43margs\u001b[49m\u001b[43m,\u001b[49m\u001b[43m \u001b[49m\u001b[38;5;241;43m*\u001b[39;49m\u001b[38;5;241;43m*\u001b[39;49m\u001b[43mkwds\u001b[49m\u001b[43m)\u001b[49m\n",
      "File \u001b[0;32m~/Desktop/yang_files/.venv/lib/python3.12/site-packages/ncclient/operations/retrieve.py:240\u001b[0m, in \u001b[0;36mDispatch.request\u001b[0;34m(self, rpc_command, source, filter)\u001b[0m\n\u001b[1;32m    237\u001b[0m \u001b[38;5;28;01mif\u001b[39;00m \u001b[38;5;28mfilter\u001b[39m \u001b[38;5;129;01mis\u001b[39;00m \u001b[38;5;129;01mnot\u001b[39;00m \u001b[38;5;28;01mNone\u001b[39;00m:\n\u001b[1;32m    238\u001b[0m     node\u001b[38;5;241m.\u001b[39mappend(util\u001b[38;5;241m.\u001b[39mbuild_filter(\u001b[38;5;28mfilter\u001b[39m))\n\u001b[0;32m--> 240\u001b[0m \u001b[38;5;28;01mreturn\u001b[39;00m \u001b[38;5;28;43mself\u001b[39;49m\u001b[38;5;241;43m.\u001b[39;49m\u001b[43m_request\u001b[49m\u001b[43m(\u001b[49m\u001b[43mnode\u001b[49m\u001b[43m)\u001b[49m\n",
      "File \u001b[0;32m~/Desktop/yang_files/.venv/lib/python3.12/site-packages/ncclient/operations/rpc.py:381\u001b[0m, in \u001b[0;36mRPC._request\u001b[0;34m(self, op)\u001b[0m\n\u001b[1;32m    379\u001b[0m         \u001b[38;5;28;01mreturn\u001b[39;00m \u001b[38;5;28mself\u001b[39m\u001b[38;5;241m.\u001b[39m_reply\n\u001b[1;32m    380\u001b[0m \u001b[38;5;28;01melse\u001b[39;00m:\n\u001b[0;32m--> 381\u001b[0m     \u001b[38;5;28;01mraise\u001b[39;00m TimeoutExpiredError(\u001b[38;5;124m'\u001b[39m\u001b[38;5;124mncclient timed out while waiting for an rpc reply.\u001b[39m\u001b[38;5;124m'\u001b[39m)\n",
      "\u001b[0;31mTimeoutExpiredError\u001b[0m: ncclient timed out while waiting for an rpc reply."
     ]
    }
   ],
   "source": [
    "message = '''<nc:get xmlns:nc=\"urn:ietf:params:xml:ns:netconf:base:1.0\">\n",
    "  <nc:filter type=\"subtree\">\n",
    "    <if:interfaces xmlns:if=\"urn:ietf:params:xml:ns:yang:ietf-interfaces\"/>\n",
    "  </nc:filter>\n",
    "</nc:get>'''\n",
    "response = m.dispatch(to_ele(message))\n",
    "print_formatted(response.xml)"
   ]
  },
  {
   "cell_type": "markdown",
   "metadata": {},
   "source": [
    "### Here first try to recall the difference between the get and get-config operations. Q: Which datastore(s) are accessed in these operations?\n",
    "from netconf rfc:\n",
    "\n",
    "```txt\n",
    "The <get-config> operation retrieves\n",
    "   configuration data only, while the <get> operation retrieves\n",
    "   configuration and state data.\n",
    "```\n",
    "\n",
    "```txt\n",
    "     +-------------+                 +-----------+\n",
    "     | <candidate> |                 | <startup> |\n",
    "     |  (ct, rw)   |<---+       +--->| (ct, rw)  |\n",
    "     +-------------+    |       |    +-----------+\n",
    "            |           |       |           |\n",
    "            |         +-----------+         |\n",
    "            +-------->| <running> |<--------+\n",
    "                      | (ct, rw)  |\n",
    "                      +-----------+\n",
    "                            |\n",
    "                            |        // configuration transformations,\n",
    "                            |        // e.g., removal of nodes marked as\n",
    "                            |        // \"inactive\", expansion of\n",
    "                            |        // templates\n",
    "                            v\n",
    "                      +------------+\n",
    "                      | <intended> | // subject to validation\n",
    "                      | (ct, ro)   |\n",
    "                      +------------+\n",
    "                            |        // changes applied, subject to\n",
    "                            |        // local factors, e.g., missing\n",
    "                            |        // resources, delays\n",
    "                            |\n",
    "       dynamic              |   +-------- learned configuration\n",
    "       configuration        |   +-------- system configuration\n",
    "       datastores -----+    |   +-------- default configuration\n",
    "                       |    |   |\n",
    "                       v    v   v\n",
    "                    +---------------+\n",
    "                    | <operational> | <-- system state\n",
    "                    | (ct + cf, ro) |\n",
    "                    +---------------+\n",
    "\n",
    "     ct = config true; cf = config false\n",
    "     rw = read-write; ro = read-only\n",
    "     boxes denote named datastores\n",
    "```\n",
    "\n",
    "### Q: Identify at least one field in the response which is config-false (see the Yang model for help). Would this field appear in the response, if we performed a get-config operation instead of the get?\n",
    "\n",
    "```yang\n",
    "          container bridge-vlan {\n",
    "            when \"not(derived-from-or-self(../../bridge-type, 'two-port-mac-relay-bridge'))\" {\n",
    "              description\n",
    "                \"Applies to non TPMRs.\";\n",
    "            }\n",
    "            reference\n",
    "              \"12.10 of IEEE Std 802.1Q-2022\";\n",
    "\n",
    "            leaf version {\n",
    "              type uint16;\n",
    "              config false;\n",
    "              description\n",
    "                \"The version number supported.\";\n",
    "              reference\n",
    "                \"12.10.1.3 of IEEE Std 802.1Q-2022\";\n",
    "\n",
    "            }\n",
    "```\n",
    "```txt\n",
    "7.1.  <get-config>\n",
    "\n",
    "   Description:  Retrieve all or part of a specified configuration\n",
    "      datastore.\n",
    "\n",
    "   Parameters:\n",
    "```\n",
    "```txt\n",
    "7.7.  <get>\n",
    "\n",
    "   Description:  Retrieve running configuration and device state\n",
    "      information.\n",
    "\n",
    "   Parameters:\n",
    "```\n",
    "\n"
   ]
  },
  {
   "cell_type": "markdown",
   "metadata": {},
   "source": []
  },
  {
   "cell_type": "code",
   "execution_count": 15,
   "metadata": {},
   "outputs": [
    {
     "name": "stdout",
     "output_type": "stream",
     "text": [
      "printing formatted str: <rpc-reply xmlns=\"urn:ietf:params:xml:ns:netconf:base:1.0\" message-id=\"urn:uuid:2cbaf50b-59f8-4e1c-9c69-e01906c22fd8\"><data><interfaces xmlns=\"urn:ietf:params:xml:ns:yang:ietf-interfaces\"><interface><name>LAN 1/0/4</name><enabled>true</enabled></interface><interface><name>LAN 1/0/5</name><enabled>true</enabled></interface><interface><name>LAN 1/0/7</name><enabled>true</enabled></interface><interface><name>LAN 1/0/8</name><enabled>true</enabled></interface><interface><name>LAN-DCN 1/0/0</name><enabled>true</enabled></interface><interface><name>WAN 1/1/1</name><enabled>true</enabled></interface></interfaces></data></rpc-reply>\n",
      "<?xml version=\"1.0\" ?>\n",
      "<rpc-reply xmlns=\"urn:ietf:params:xml:ns:netconf:base:1.0\" message-id=\"urn:uuid:2cbaf50b-59f8-4e1c-9c69-e01906c22fd8\">\n",
      "\t<data>\n",
      "\t\t<interfaces xmlns=\"urn:ietf:params:xml:ns:yang:ietf-interfaces\">\n",
      "\t\t\t<interface>\n",
      "\t\t\t\t<name>LAN 1/0/4</name>\n",
      "\t\t\t\t<enabled>true</enabled>\n",
      "\t\t\t</interface>\n",
      "\t\t\t<interface>\n",
      "\t\t\t\t<name>LAN 1/0/5</name>\n",
      "\t\t\t\t<enabled>true</enabled>\n",
      "\t\t\t</interface>\n",
      "\t\t\t<interface>\n",
      "\t\t\t\t<name>LAN 1/0/7</name>\n",
      "\t\t\t\t<enabled>true</enabled>\n",
      "\t\t\t</interface>\n",
      "\t\t\t<interface>\n",
      "\t\t\t\t<name>LAN 1/0/8</name>\n",
      "\t\t\t\t<enabled>true</enabled>\n",
      "\t\t\t</interface>\n",
      "\t\t\t<interface>\n",
      "\t\t\t\t<name>LAN-DCN 1/0/0</name>\n",
      "\t\t\t\t<enabled>true</enabled>\n",
      "\t\t\t</interface>\n",
      "\t\t\t<interface>\n",
      "\t\t\t\t<name>WAN 1/1/1</name>\n",
      "\t\t\t\t<enabled>true</enabled>\n",
      "\t\t\t</interface>\n",
      "\t\t</interfaces>\n",
      "\t</data>\n",
      "</rpc-reply>\n",
      "\n"
     ]
    }
   ],
   "source": [
    "message = '''<nc:get xmlns:nc=\"urn:ietf:params:xml:ns:netconf:base:1.0\" xmlns:if=\"urn:ietf:params:xml:ns:yang:ietf-interfaces\" xmlns:ianaift=\"urn:ietf:params:xml:ns:yang:iana-if-type\">\n",
    "    <nc:filter type=\"xpath\" select=\"/if:interfaces/if:interface[if:type=derived-from-or-self(if:type, 'ianaift:ethernetCsmacd')]/enabled\"/>\n",
    "</nc:get>'''\n",
    "response = m.dispatch(to_ele(message))\n",
    "print_formatted(response.xml)"
   ]
  },
  {
   "cell_type": "code",
   "execution_count": 8,
   "metadata": {},
   "outputs": [
    {
     "name": "stdout",
     "output_type": "stream",
     "text": [
      "printing formatted str: <rpc-reply xmlns=\"urn:ietf:params:xml:ns:netconf:base:1.0\" message-id=\"urn:uuid:c5de60fd-7bf4-4a50-a727-c0e9ce9083af\"><data><interfaces xmlns=\"urn:ietf:params:xml:ns:yang:ietf-interfaces\"><interface><name>CT 1/1/1</name><enabled>true</enabled><link-up-down-trap-enable>enabled</link-up-down-trap-enable></interface><interface><name>LAN 1/0/4</name><enabled>true</enabled><link-up-down-trap-enable>enabled</link-up-down-trap-enable></interface><interface><name>LAN 1/0/5</name><enabled>true</enabled><link-up-down-trap-enable>enabled</link-up-down-trap-enable></interface><interface><name>LAN 1/0/7</name><enabled>true</enabled><link-up-down-trap-enable>enabled</link-up-down-trap-enable></interface><interface><name>LAN 1/0/8</name><enabled>true</enabled><link-up-down-trap-enable>enabled</link-up-down-trap-enable></interface><interface><name>LAN-DCN 1/0/0</name><enabled>true</enabled><link-up-down-trap-enable>enabled</link-up-down-trap-enable></interface><interface><name>RLT 1/1/1</name><enabled>true</enabled></interface><interface><name>WAN 1/1/1</name><enabled>true</enabled><link-up-down-trap-enable>disabled</link-up-down-trap-enable></interface></interfaces></data></rpc-reply>\n",
      "<?xml version=\"1.0\" ?>\n",
      "<rpc-reply xmlns=\"urn:ietf:params:xml:ns:netconf:base:1.0\" message-id=\"urn:uuid:c5de60fd-7bf4-4a50-a727-c0e9ce9083af\">\n",
      "\t<data>\n",
      "\t\t<interfaces xmlns=\"urn:ietf:params:xml:ns:yang:ietf-interfaces\">\n",
      "\t\t\t<interface>\n",
      "\t\t\t\t<name>CT 1/1/1</name>\n",
      "\t\t\t\t<enabled>true</enabled>\n",
      "\t\t\t\t<link-up-down-trap-enable>enabled</link-up-down-trap-enable>\n",
      "\t\t\t</interface>\n",
      "\t\t\t<interface>\n",
      "\t\t\t\t<name>LAN 1/0/4</name>\n",
      "\t\t\t\t<enabled>true</enabled>\n",
      "\t\t\t\t<link-up-down-trap-enable>enabled</link-up-down-trap-enable>\n",
      "\t\t\t</interface>\n",
      "\t\t\t<interface>\n",
      "\t\t\t\t<name>LAN 1/0/5</name>\n",
      "\t\t\t\t<enabled>true</enabled>\n",
      "\t\t\t\t<link-up-down-trap-enable>enabled</link-up-down-trap-enable>\n",
      "\t\t\t</interface>\n",
      "\t\t\t<interface>\n",
      "\t\t\t\t<name>LAN 1/0/7</name>\n",
      "\t\t\t\t<enabled>true</enabled>\n",
      "\t\t\t\t<link-up-down-trap-enable>enabled</link-up-down-trap-enable>\n",
      "\t\t\t</interface>\n",
      "\t\t\t<interface>\n",
      "\t\t\t\t<name>LAN 1/0/8</name>\n",
      "\t\t\t\t<enabled>true</enabled>\n",
      "\t\t\t\t<link-up-down-trap-enable>enabled</link-up-down-trap-enable>\n",
      "\t\t\t</interface>\n",
      "\t\t\t<interface>\n",
      "\t\t\t\t<name>LAN-DCN 1/0/0</name>\n",
      "\t\t\t\t<enabled>true</enabled>\n",
      "\t\t\t\t<link-up-down-trap-enable>enabled</link-up-down-trap-enable>\n",
      "\t\t\t</interface>\n",
      "\t\t\t<interface>\n",
      "\t\t\t\t<name>RLT 1/1/1</name>\n",
      "\t\t\t\t<enabled>true</enabled>\n",
      "\t\t\t</interface>\n",
      "\t\t\t<interface>\n",
      "\t\t\t\t<name>WAN 1/1/1</name>\n",
      "\t\t\t\t<enabled>true</enabled>\n",
      "\t\t\t\t<link-up-down-trap-enable>disabled</link-up-down-trap-enable>\n",
      "\t\t\t</interface>\n",
      "\t\t</interfaces>\n",
      "\t</data>\n",
      "</rpc-reply>\n",
      "\n"
     ]
    },
    {
     "name": "stderr",
     "output_type": "stream",
     "text": [
      "Socket exception: An existing connection was forcibly closed by the remote host (10054)\n"
     ]
    }
   ],
   "source": [
    "message = '''<nc:get xmlns:nc=\"urn:ietf:params:xml:ns:netconf:base:1.0\">\n",
    "  <nc:filter type=\"subtree\">\n",
    "    <if:interfaces xmlns:if=\"urn:ietf:params:xml:ns:yang:ietf-interfaces\">\n",
    "      <if:interface>\n",
    "        <if:enabled/>\n",
    "        <if:link-up-down-trap-enable/>\n",
    "      </if:interface>\n",
    "    </if:interfaces>\n",
    "  </nc:filter>\n",
    "</nc:get>'''\n",
    "response = m.dispatch(to_ele(message))\n",
    "print_formatted(response.xml)"
   ]
  },
  {
   "cell_type": "markdown",
   "metadata": {},
   "source": [
    "# listing all bridges"
   ]
  },
  {
   "cell_type": "code",
   "execution_count": 6,
   "metadata": {},
   "outputs": [
    {
     "name": "stdout",
     "output_type": "stream",
     "text": [
      "printing formatted str: <rpc-reply xmlns=\"urn:ietf:params:xml:ns:netconf:base:1.0\" message-id=\"urn:uuid:69301155-cd3a-4d9c-b5c2-3412a7dd7510\"><data><bridges xmlns=\"urn:ieee:std:802.1Q:yang:ieee802-dot1q-bridge\"><bridge><name>BRIDGE</name><address>98-C5-DB-85-8D-5D</address><bridge-type>customer-vlan-bridge</bridge-type><components>1</components><component><name>DEFAULT</name><id>1</id><type>c-vlan-component</type><address>98-C5-DB-85-8D-5D</address><traffic-class-enabled>true</traffic-class-enabled><filtering-database><aging-time>300</aging-time><vlan-registration-entry><database-id>1</database-id><vids>1</vids><entry-type>static</entry-type><port-map><port-ref>1</port-ref><static-vlan-registration-entries><registrar-admin-control>fixed-new-ignored</registrar-admin-control><vlan-transmitted>untagged</vlan-transmitted></static-vlan-registration-entries></port-map><port-map><port-ref>3</port-ref><static-vlan-registration-entries><registrar-admin-control>fixed-new-ignored</registrar-admin-control><vlan-transmitted>untagged</vlan-transmitted></static-vlan-registration-entries></port-map></vlan-registration-entry><vlan-registration-entry><database-id>1</database-id><vids>1234</vids><entry-type>static</entry-type><port-map><port-ref>2</port-ref><static-vlan-registration-entries><registrar-admin-control>fixed-new-ignored</registrar-admin-control><vlan-transmitted>tagged</vlan-transmitted></static-vlan-registration-entries></port-map></vlan-registration-entry></filtering-database><bridge-vlan><vlan><vid>1</vid><name>Default VLAN</name></vlan><vlan><vid>1234</vid><name/></vlan></bridge-vlan></component></bridge></bridges></data></rpc-reply>\n",
      "<?xml version=\"1.0\" ?>\n",
      "<rpc-reply xmlns=\"urn:ietf:params:xml:ns:netconf:base:1.0\" message-id=\"urn:uuid:69301155-cd3a-4d9c-b5c2-3412a7dd7510\">\n",
      "\t<data>\n",
      "\t\t<bridges xmlns=\"urn:ieee:std:802.1Q:yang:ieee802-dot1q-bridge\">\n",
      "\t\t\t<bridge>\n",
      "\t\t\t\t<name>BRIDGE</name>\n",
      "\t\t\t\t<address>98-C5-DB-85-8D-5D</address>\n",
      "\t\t\t\t<bridge-type>customer-vlan-bridge</bridge-type>\n",
      "\t\t\t\t<components>1</components>\n",
      "\t\t\t\t<component>\n",
      "\t\t\t\t\t<name>DEFAULT</name>\n",
      "\t\t\t\t\t<id>1</id>\n",
      "\t\t\t\t\t<type>c-vlan-component</type>\n",
      "\t\t\t\t\t<address>98-C5-DB-85-8D-5D</address>\n",
      "\t\t\t\t\t<traffic-class-enabled>true</traffic-class-enabled>\n",
      "\t\t\t\t\t<filtering-database>\n",
      "\t\t\t\t\t\t<aging-time>300</aging-time>\n",
      "\t\t\t\t\t\t<vlan-registration-entry>\n",
      "\t\t\t\t\t\t\t<database-id>1</database-id>\n",
      "\t\t\t\t\t\t\t<vids>1</vids>\n",
      "\t\t\t\t\t\t\t<entry-type>static</entry-type>\n",
      "\t\t\t\t\t\t\t<port-map>\n",
      "\t\t\t\t\t\t\t\t<port-ref>1</port-ref>\n",
      "\t\t\t\t\t\t\t\t<static-vlan-registration-entries>\n",
      "\t\t\t\t\t\t\t\t\t<registrar-admin-control>fixed-new-ignored</registrar-admin-control>\n",
      "\t\t\t\t\t\t\t\t\t<vlan-transmitted>untagged</vlan-transmitted>\n",
      "\t\t\t\t\t\t\t\t</static-vlan-registration-entries>\n",
      "\t\t\t\t\t\t\t</port-map>\n",
      "\t\t\t\t\t\t\t<port-map>\n",
      "\t\t\t\t\t\t\t\t<port-ref>3</port-ref>\n",
      "\t\t\t\t\t\t\t\t<static-vlan-registration-entries>\n",
      "\t\t\t\t\t\t\t\t\t<registrar-admin-control>fixed-new-ignored</registrar-admin-control>\n",
      "\t\t\t\t\t\t\t\t\t<vlan-transmitted>untagged</vlan-transmitted>\n",
      "\t\t\t\t\t\t\t\t</static-vlan-registration-entries>\n",
      "\t\t\t\t\t\t\t</port-map>\n",
      "\t\t\t\t\t\t</vlan-registration-entry>\n",
      "\t\t\t\t\t\t<vlan-registration-entry>\n",
      "\t\t\t\t\t\t\t<database-id>1</database-id>\n",
      "\t\t\t\t\t\t\t<vids>1234</vids>\n",
      "\t\t\t\t\t\t\t<entry-type>static</entry-type>\n",
      "\t\t\t\t\t\t\t<port-map>\n",
      "\t\t\t\t\t\t\t\t<port-ref>2</port-ref>\n",
      "\t\t\t\t\t\t\t\t<static-vlan-registration-entries>\n",
      "\t\t\t\t\t\t\t\t\t<registrar-admin-control>fixed-new-ignored</registrar-admin-control>\n",
      "\t\t\t\t\t\t\t\t\t<vlan-transmitted>tagged</vlan-transmitted>\n",
      "\t\t\t\t\t\t\t\t</static-vlan-registration-entries>\n",
      "\t\t\t\t\t\t\t</port-map>\n",
      "\t\t\t\t\t\t</vlan-registration-entry>\n",
      "\t\t\t\t\t</filtering-database>\n",
      "\t\t\t\t\t<bridge-vlan>\n",
      "\t\t\t\t\t\t<vlan>\n",
      "\t\t\t\t\t\t\t<vid>1</vid>\n",
      "\t\t\t\t\t\t\t<name>Default VLAN</name>\n",
      "\t\t\t\t\t\t</vlan>\n",
      "\t\t\t\t\t\t<vlan>\n",
      "\t\t\t\t\t\t\t<vid>1234</vid>\n",
      "\t\t\t\t\t\t\t<name/>\n",
      "\t\t\t\t\t\t</vlan>\n",
      "\t\t\t\t\t</bridge-vlan>\n",
      "\t\t\t\t</component>\n",
      "\t\t\t</bridge>\n",
      "\t\t</bridges>\n",
      "\t</data>\n",
      "</rpc-reply>\n",
      "\n"
     ]
    }
   ],
   "source": [
    "message = '''\n",
    "<nc:get xmlns:nc=\"urn:ietf:params:xml:ns:netconf:base:1.0\" xmlns:bp=\"urn:ieee:std:802.1Q:yang:ieee802-dot1q-bridge\">\n",
    "    <nc:filter type=\"xpath\" select=\"bp:bridges\"/>\n",
    "</nc:get>'''\n",
    "response = m.dispatch(to_ele(message))\n",
    "print_formatted(response.xml)"
   ]
  },
  {
   "cell_type": "markdown",
   "metadata": {},
   "source": [
    "# listing single bridge (by xpath)"
   ]
  },
  {
   "cell_type": "code",
   "execution_count": 13,
   "metadata": {},
   "outputs": [
    {
     "name": "stdout",
     "output_type": "stream",
     "text": [
      "printing formatted str: <rpc-reply xmlns=\"urn:ietf:params:xml:ns:netconf:base:1.0\" message-id=\"urn:uuid:241bbe3a-7dc8-4159-acb2-2c3aaa50a6d5\"><data><bridges xmlns=\"urn:ieee:std:802.1Q:yang:ieee802-dot1q-bridge\"><bridge><name>BRIDGE</name><address>98-C5-DB-85-8D-5D</address><bridge-type>customer-vlan-bridge</bridge-type><ports>3</ports><components>1</components><component><name>DEFAULT</name><id>1</id><type>c-vlan-component</type><address>98-C5-DB-85-8D-5D</address><traffic-class-enabled>true</traffic-class-enabled><ports>3</ports><bridge-port>LAN 1/2/4</bridge-port><bridge-port>LAN 1/2/5</bridge-port><bridge-port>LAN-DCN 1/2/0</bridge-port><filtering-database><aging-time>300</aging-time><vlan-registration-entry><database-id>1</database-id><vids>1</vids><entry-type>static</entry-type><port-map><port-ref>1</port-ref><static-vlan-registration-entries><registrar-admin-control>fixed-new-ignored</registrar-admin-control><vlan-transmitted>untagged</vlan-transmitted></static-vlan-registration-entries></port-map><port-map><port-ref>3</port-ref><static-vlan-registration-entries><registrar-admin-control>fixed-new-ignored</registrar-admin-control><vlan-transmitted>untagged</vlan-transmitted></static-vlan-registration-entries></port-map></vlan-registration-entry><vlan-registration-entry><database-id>1</database-id><vids>1234</vids><entry-type>static</entry-type><port-map><port-ref>2</port-ref><static-vlan-registration-entries><registrar-admin-control>fixed-new-ignored</registrar-admin-control><vlan-transmitted>tagged</vlan-transmitted></static-vlan-registration-entries></port-map></vlan-registration-entry></filtering-database><bridge-vlan><vlan><vid>1</vid><name>Default VLAN</name><untagged-ports>LAN-DCN 1/2/0</untagged-ports><untagged-ports>LAN 1/2/5</untagged-ports><egress-ports>LAN-DCN 1/2/0</egress-ports><egress-ports>LAN 1/2/5</egress-ports></vlan><vlan><vid>1234</vid><name/><egress-ports>LAN 1/2/4</egress-ports></vlan></bridge-vlan></component></bridge></bridges></data></rpc-reply>\n",
      "<?xml version=\"1.0\" ?>\n",
      "<rpc-reply xmlns=\"urn:ietf:params:xml:ns:netconf:base:1.0\" message-id=\"urn:uuid:241bbe3a-7dc8-4159-acb2-2c3aaa50a6d5\">\n",
      "\t<data>\n",
      "\t\t<bridges xmlns=\"urn:ieee:std:802.1Q:yang:ieee802-dot1q-bridge\">\n",
      "\t\t\t<bridge>\n",
      "\t\t\t\t<name>BRIDGE</name>\n",
      "\t\t\t\t<address>98-C5-DB-85-8D-5D</address>\n",
      "\t\t\t\t<bridge-type>customer-vlan-bridge</bridge-type>\n",
      "\t\t\t\t<ports>3</ports>\n",
      "\t\t\t\t<components>1</components>\n",
      "\t\t\t\t<component>\n",
      "\t\t\t\t\t<name>DEFAULT</name>\n",
      "\t\t\t\t\t<id>1</id>\n",
      "\t\t\t\t\t<type>c-vlan-component</type>\n",
      "\t\t\t\t\t<address>98-C5-DB-85-8D-5D</address>\n",
      "\t\t\t\t\t<traffic-class-enabled>true</traffic-class-enabled>\n",
      "\t\t\t\t\t<ports>3</ports>\n",
      "\t\t\t\t\t<bridge-port>LAN 1/2/4</bridge-port>\n",
      "\t\t\t\t\t<bridge-port>LAN 1/2/5</bridge-port>\n",
      "\t\t\t\t\t<bridge-port>LAN-DCN 1/2/0</bridge-port>\n",
      "\t\t\t\t\t<filtering-database>\n",
      "\t\t\t\t\t\t<aging-time>300</aging-time>\n",
      "\t\t\t\t\t\t<vlan-registration-entry>\n",
      "\t\t\t\t\t\t\t<database-id>1</database-id>\n",
      "\t\t\t\t\t\t\t<vids>1</vids>\n",
      "\t\t\t\t\t\t\t<entry-type>static</entry-type>\n",
      "\t\t\t\t\t\t\t<port-map>\n",
      "\t\t\t\t\t\t\t\t<port-ref>1</port-ref>\n",
      "\t\t\t\t\t\t\t\t<static-vlan-registration-entries>\n",
      "\t\t\t\t\t\t\t\t\t<registrar-admin-control>fixed-new-ignored</registrar-admin-control>\n",
      "\t\t\t\t\t\t\t\t\t<vlan-transmitted>untagged</vlan-transmitted>\n",
      "\t\t\t\t\t\t\t\t</static-vlan-registration-entries>\n",
      "\t\t\t\t\t\t\t</port-map>\n",
      "\t\t\t\t\t\t\t<port-map>\n",
      "\t\t\t\t\t\t\t\t<port-ref>3</port-ref>\n",
      "\t\t\t\t\t\t\t\t<static-vlan-registration-entries>\n",
      "\t\t\t\t\t\t\t\t\t<registrar-admin-control>fixed-new-ignored</registrar-admin-control>\n",
      "\t\t\t\t\t\t\t\t\t<vlan-transmitted>untagged</vlan-transmitted>\n",
      "\t\t\t\t\t\t\t\t</static-vlan-registration-entries>\n",
      "\t\t\t\t\t\t\t</port-map>\n",
      "\t\t\t\t\t\t</vlan-registration-entry>\n",
      "\t\t\t\t\t\t<vlan-registration-entry>\n",
      "\t\t\t\t\t\t\t<database-id>1</database-id>\n",
      "\t\t\t\t\t\t\t<vids>1234</vids>\n",
      "\t\t\t\t\t\t\t<entry-type>static</entry-type>\n",
      "\t\t\t\t\t\t\t<port-map>\n",
      "\t\t\t\t\t\t\t\t<port-ref>2</port-ref>\n",
      "\t\t\t\t\t\t\t\t<static-vlan-registration-entries>\n",
      "\t\t\t\t\t\t\t\t\t<registrar-admin-control>fixed-new-ignored</registrar-admin-control>\n",
      "\t\t\t\t\t\t\t\t\t<vlan-transmitted>tagged</vlan-transmitted>\n",
      "\t\t\t\t\t\t\t\t</static-vlan-registration-entries>\n",
      "\t\t\t\t\t\t\t</port-map>\n",
      "\t\t\t\t\t\t</vlan-registration-entry>\n",
      "\t\t\t\t\t</filtering-database>\n",
      "\t\t\t\t\t<bridge-vlan>\n",
      "\t\t\t\t\t\t<vlan>\n",
      "\t\t\t\t\t\t\t<vid>1</vid>\n",
      "\t\t\t\t\t\t\t<name>Default VLAN</name>\n",
      "\t\t\t\t\t\t\t<untagged-ports>LAN-DCN 1/2/0</untagged-ports>\n",
      "\t\t\t\t\t\t\t<untagged-ports>LAN 1/2/5</untagged-ports>\n",
      "\t\t\t\t\t\t\t<egress-ports>LAN-DCN 1/2/0</egress-ports>\n",
      "\t\t\t\t\t\t\t<egress-ports>LAN 1/2/5</egress-ports>\n",
      "\t\t\t\t\t\t</vlan>\n",
      "\t\t\t\t\t\t<vlan>\n",
      "\t\t\t\t\t\t\t<vid>1234</vid>\n",
      "\t\t\t\t\t\t\t<name/>\n",
      "\t\t\t\t\t\t\t<egress-ports>LAN 1/2/4</egress-ports>\n",
      "\t\t\t\t\t\t</vlan>\n",
      "\t\t\t\t\t</bridge-vlan>\n",
      "\t\t\t\t</component>\n",
      "\t\t\t</bridge>\n",
      "\t\t</bridges>\n",
      "\t</data>\n",
      "</rpc-reply>\n",
      "\n"
     ]
    }
   ],
   "source": [
    "message = '''\n",
    "<nc:get xmlns:nc=\"urn:ietf:params:xml:ns:netconf:base:1.0\" xmlns:bp=\"urn:ieee:std:802.1Q:yang:ieee802-dot1q-bridge\">\n",
    "    <nc:filter type=\"xpath\" select=\"/bp:bridges/bridge[name='BRIDGE']\"/>\n",
    "</nc:get>'''\n",
    "response = m.dispatch(to_ele(message))\n",
    "print_formatted(response.xml)"
   ]
  },
  {
   "cell_type": "markdown",
   "metadata": {},
   "source": [
    "# listing all bridge child (vlan reg entry)"
   ]
  },
  {
   "cell_type": "code",
   "execution_count": 10,
   "metadata": {},
   "outputs": [
    {
     "name": "stdout",
     "output_type": "stream",
     "text": [
      "printing formatted str: <rpc-reply xmlns=\"urn:ietf:params:xml:ns:netconf:base:1.0\" message-id=\"urn:uuid:6eb246ab-5c72-4f11-9da7-613af14ba836\"><data><bridges xmlns=\"urn:ieee:std:802.1Q:yang:ieee802-dot1q-bridge\"><bridge><name>BRIDGE</name><component><name>DEFAULT</name><filtering-database><vlan-registration-entry><database-id>1</database-id><vids>1234</vids><port-map><port-ref>2</port-ref><static-vlan-registration-entries><registrar-admin-control>fixed-new-ignored</registrar-admin-control></static-vlan-registration-entries></port-map></vlan-registration-entry></filtering-database></component></bridge></bridges></data></rpc-reply>\n",
      "<?xml version=\"1.0\" ?>\n",
      "<rpc-reply xmlns=\"urn:ietf:params:xml:ns:netconf:base:1.0\" message-id=\"urn:uuid:6eb246ab-5c72-4f11-9da7-613af14ba836\">\n",
      "\t<data>\n",
      "\t\t<bridges xmlns=\"urn:ieee:std:802.1Q:yang:ieee802-dot1q-bridge\">\n",
      "\t\t\t<bridge>\n",
      "\t\t\t\t<name>BRIDGE</name>\n",
      "\t\t\t\t<component>\n",
      "\t\t\t\t\t<name>DEFAULT</name>\n",
      "\t\t\t\t\t<filtering-database>\n",
      "\t\t\t\t\t\t<vlan-registration-entry>\n",
      "\t\t\t\t\t\t\t<database-id>1</database-id>\n",
      "\t\t\t\t\t\t\t<vids>1234</vids>\n",
      "\t\t\t\t\t\t\t<port-map>\n",
      "\t\t\t\t\t\t\t\t<port-ref>2</port-ref>\n",
      "\t\t\t\t\t\t\t\t<static-vlan-registration-entries>\n",
      "\t\t\t\t\t\t\t\t\t<registrar-admin-control>fixed-new-ignored</registrar-admin-control>\n",
      "\t\t\t\t\t\t\t\t</static-vlan-registration-entries>\n",
      "\t\t\t\t\t\t\t</port-map>\n",
      "\t\t\t\t\t\t</vlan-registration-entry>\n",
      "\t\t\t\t\t</filtering-database>\n",
      "\t\t\t\t</component>\n",
      "\t\t\t</bridge>\n",
      "\t\t</bridges>\n",
      "\t</data>\n",
      "</rpc-reply>\n",
      "\n",
      "printing formatted str: <rpc-reply xmlns=\"urn:ietf:params:xml:ns:netconf:base:1.0\" message-id=\"urn:uuid:0c28d0e9-187f-483d-b00e-0d3bcc3ade4a\"><data><bridges xmlns=\"urn:ieee:std:802.1Q:yang:ieee802-dot1q-bridge\"><bridge><name>BRIDGE</name><component><name>DEFAULT</name><filtering-database><vlan-registration-entry><database-id>1</database-id><vids>1234</vids><port-map><port-ref>2</port-ref><static-vlan-registration-entries><vlan-transmitted>tagged</vlan-transmitted></static-vlan-registration-entries></port-map></vlan-registration-entry></filtering-database></component></bridge></bridges></data></rpc-reply>\n",
      "<?xml version=\"1.0\" ?>\n",
      "<rpc-reply xmlns=\"urn:ietf:params:xml:ns:netconf:base:1.0\" message-id=\"urn:uuid:0c28d0e9-187f-483d-b00e-0d3bcc3ade4a\">\n",
      "\t<data>\n",
      "\t\t<bridges xmlns=\"urn:ieee:std:802.1Q:yang:ieee802-dot1q-bridge\">\n",
      "\t\t\t<bridge>\n",
      "\t\t\t\t<name>BRIDGE</name>\n",
      "\t\t\t\t<component>\n",
      "\t\t\t\t\t<name>DEFAULT</name>\n",
      "\t\t\t\t\t<filtering-database>\n",
      "\t\t\t\t\t\t<vlan-registration-entry>\n",
      "\t\t\t\t\t\t\t<database-id>1</database-id>\n",
      "\t\t\t\t\t\t\t<vids>1234</vids>\n",
      "\t\t\t\t\t\t\t<port-map>\n",
      "\t\t\t\t\t\t\t\t<port-ref>2</port-ref>\n",
      "\t\t\t\t\t\t\t\t<static-vlan-registration-entries>\n",
      "\t\t\t\t\t\t\t\t\t<vlan-transmitted>tagged</vlan-transmitted>\n",
      "\t\t\t\t\t\t\t\t</static-vlan-registration-entries>\n",
      "\t\t\t\t\t\t\t</port-map>\n",
      "\t\t\t\t\t\t</vlan-registration-entry>\n",
      "\t\t\t\t\t</filtering-database>\n",
      "\t\t\t\t</component>\n",
      "\t\t\t</bridge>\n",
      "\t\t</bridges>\n",
      "\t</data>\n",
      "</rpc-reply>\n",
      "\n"
     ]
    }
   ],
   "source": [
    "message = '''\n",
    "<nc:get xmlns:nc=\"urn:ietf:params:xml:ns:netconf:base:1.0\" xmlns:bp=\"urn:ieee:std:802.1Q:yang:ieee802-dot1q-bridge\">\n",
    "    <nc:filter type=\"xpath\" select=\"/bp:bridges/bp:bridge/bp:component/bp:filtering-database/bp:vlan-registration-entry[vids=1234]/bp:port-map[port-ref=2]/bp:static-vlan-registration-entries/bp:registrar-admin-control\"/>\n",
    "</nc:get>'''\n",
    "response = m.dispatch(to_ele(message))\n",
    "print_formatted(response.xml)\n",
    "message = '''\n",
    "<nc:get xmlns:nc=\"urn:ietf:params:xml:ns:netconf:base:1.0\" xmlns:bp=\"urn:ieee:std:802.1Q:yang:ieee802-dot1q-bridge\">\n",
    "    <nc:filter type=\"xpath\" select=\"/bp:bridges/bp:bridge/bp:component/bp:filtering-database/bp:vlan-registration-entry[vids=1234]/bp:port-map[port-ref=2]/bp:static-vlan-registration-entries/bp:vlan-transmitted\"/>\n",
    "</nc:get>'''\n",
    "response = m.dispatch(to_ele(message))\n",
    "print_formatted(response.xml)\n"
   ]
  },
  {
   "cell_type": "markdown",
   "metadata": {},
   "source": [
    "# listing bridges with name"
   ]
  },
  {
   "cell_type": "code",
   "execution_count": 4,
   "metadata": {},
   "outputs": [
    {
     "ename": "TransportError",
     "evalue": "Not connected to NETCONF server",
     "output_type": "error",
     "traceback": [
      "\u001b[1;31m---------------------------------------------------------------------------\u001b[0m",
      "\u001b[1;31mTransportError\u001b[0m                            Traceback (most recent call last)",
      "Cell \u001b[1;32mIn[4], line 6\u001b[0m\n\u001b[0;32m      1\u001b[0m message \u001b[38;5;241m=\u001b[39m \u001b[38;5;124m'''\u001b[39m\n\u001b[0;32m      2\u001b[0m \u001b[38;5;124m<nc:get xmlns:nc=\u001b[39m\u001b[38;5;124m\"\u001b[39m\u001b[38;5;124murn:ietf:params:xml:ns:netconf:base:1.0\u001b[39m\u001b[38;5;124m\"\u001b[39m\u001b[38;5;124m xmlns:bp=\u001b[39m\u001b[38;5;124m\"\u001b[39m\u001b[38;5;124murn:ieee:std:802.1Q:yang:ieee802-dot1q-bridge\u001b[39m\u001b[38;5;124m\"\u001b[39m\u001b[38;5;124m>\u001b[39m\n\u001b[0;32m      3\u001b[0m \u001b[38;5;124m    <nc:filter type=\u001b[39m\u001b[38;5;124m\"\u001b[39m\u001b[38;5;124mxpath\u001b[39m\u001b[38;5;124m\"\u001b[39m\u001b[38;5;124m select=\u001b[39m\u001b[38;5;124m\"\u001b[39m\u001b[38;5;124m/bp:bridges/bp:bridge/bp:component/bp:filtering-database/bp:vlan-registration-entry\u001b[39m\u001b[38;5;124m\"\u001b[39m\u001b[38;5;124m/>\u001b[39m\n\u001b[0;32m      4\u001b[0m \u001b[38;5;124m    \u001b[39m\n\u001b[0;32m      5\u001b[0m \u001b[38;5;124m</nc:get>\u001b[39m\u001b[38;5;124m'''\u001b[39m\n\u001b[1;32m----> 6\u001b[0m response \u001b[38;5;241m=\u001b[39m \u001b[43mm\u001b[49m\u001b[38;5;241;43m.\u001b[39;49m\u001b[43mdispatch\u001b[49m\u001b[43m(\u001b[49m\u001b[43mto_ele\u001b[49m\u001b[43m(\u001b[49m\u001b[43mmessage\u001b[49m\u001b[43m)\u001b[49m\u001b[43m)\u001b[49m\n\u001b[0;32m      7\u001b[0m print_formatted(response\u001b[38;5;241m.\u001b[39mxml)\n",
      "File \u001b[1;32mc:\\Users\\ehnxnsm\\repos\\yang-analysis\\.venv\\Lib\\site-packages\\ncclient\\manager.py:257\u001b[0m, in \u001b[0;36mManager.execute\u001b[1;34m(self, cls, *args, **kwds)\u001b[0m\n\u001b[0;32m    256\u001b[0m \u001b[38;5;28;01mdef\u001b[39;00m \u001b[38;5;21mexecute\u001b[39m(\u001b[38;5;28mself\u001b[39m, \u001b[38;5;28mcls\u001b[39m, \u001b[38;5;241m*\u001b[39margs, \u001b[38;5;241m*\u001b[39m\u001b[38;5;241m*\u001b[39mkwds):\n\u001b[1;32m--> 257\u001b[0m     \u001b[38;5;28;01mreturn\u001b[39;00m \u001b[38;5;28;43mcls\u001b[39;49m\u001b[43m(\u001b[49m\u001b[38;5;28;43mself\u001b[39;49m\u001b[38;5;241;43m.\u001b[39;49m\u001b[43m_session\u001b[49m\u001b[43m,\u001b[49m\n\u001b[0;32m    258\u001b[0m \u001b[43m               \u001b[49m\u001b[43mdevice_handler\u001b[49m\u001b[38;5;241;43m=\u001b[39;49m\u001b[38;5;28;43mself\u001b[39;49m\u001b[38;5;241;43m.\u001b[39;49m\u001b[43m_device_handler\u001b[49m\u001b[43m,\u001b[49m\n\u001b[0;32m    259\u001b[0m \u001b[43m               \u001b[49m\u001b[43masync_mode\u001b[49m\u001b[38;5;241;43m=\u001b[39;49m\u001b[38;5;28;43mself\u001b[39;49m\u001b[38;5;241;43m.\u001b[39;49m\u001b[43m_async_mode\u001b[49m\u001b[43m,\u001b[49m\n\u001b[0;32m    260\u001b[0m \u001b[43m               \u001b[49m\u001b[43mtimeout\u001b[49m\u001b[38;5;241;43m=\u001b[39;49m\u001b[38;5;28;43mself\u001b[39;49m\u001b[38;5;241;43m.\u001b[39;49m\u001b[43m_timeout\u001b[49m\u001b[43m,\u001b[49m\n\u001b[0;32m    261\u001b[0m \u001b[43m               \u001b[49m\u001b[43mraise_mode\u001b[49m\u001b[38;5;241;43m=\u001b[39;49m\u001b[38;5;28;43mself\u001b[39;49m\u001b[38;5;241;43m.\u001b[39;49m\u001b[43m_raise_mode\u001b[49m\u001b[43m,\u001b[49m\n\u001b[0;32m    262\u001b[0m \u001b[43m               \u001b[49m\u001b[43mhuge_tree\u001b[49m\u001b[38;5;241;43m=\u001b[39;49m\u001b[38;5;28;43mself\u001b[39;49m\u001b[38;5;241;43m.\u001b[39;49m\u001b[43m_huge_tree\u001b[49m\u001b[43m)\u001b[49m\u001b[38;5;241;43m.\u001b[39;49m\u001b[43mrequest\u001b[49m\u001b[43m(\u001b[49m\u001b[38;5;241;43m*\u001b[39;49m\u001b[43margs\u001b[49m\u001b[43m,\u001b[49m\u001b[43m \u001b[49m\u001b[38;5;241;43m*\u001b[39;49m\u001b[38;5;241;43m*\u001b[39;49m\u001b[43mkwds\u001b[49m\u001b[43m)\u001b[49m\n",
      "File \u001b[1;32mc:\\Users\\ehnxnsm\\repos\\yang-analysis\\.venv\\Lib\\site-packages\\ncclient\\operations\\retrieve.py:240\u001b[0m, in \u001b[0;36mDispatch.request\u001b[1;34m(self, rpc_command, source, filter)\u001b[0m\n\u001b[0;32m    237\u001b[0m \u001b[38;5;28;01mif\u001b[39;00m \u001b[38;5;28mfilter\u001b[39m \u001b[38;5;129;01mis\u001b[39;00m \u001b[38;5;129;01mnot\u001b[39;00m \u001b[38;5;28;01mNone\u001b[39;00m:\n\u001b[0;32m    238\u001b[0m     node\u001b[38;5;241m.\u001b[39mappend(util\u001b[38;5;241m.\u001b[39mbuild_filter(\u001b[38;5;28mfilter\u001b[39m))\n\u001b[1;32m--> 240\u001b[0m \u001b[38;5;28;01mreturn\u001b[39;00m \u001b[38;5;28;43mself\u001b[39;49m\u001b[38;5;241;43m.\u001b[39;49m\u001b[43m_request\u001b[49m\u001b[43m(\u001b[49m\u001b[43mnode\u001b[49m\u001b[43m)\u001b[49m\n",
      "File \u001b[1;32mc:\\Users\\ehnxnsm\\repos\\yang-analysis\\.venv\\Lib\\site-packages\\ncclient\\operations\\rpc.py:354\u001b[0m, in \u001b[0;36mRPC._request\u001b[1;34m(self, op)\u001b[0m\n\u001b[0;32m    352\u001b[0m \u001b[38;5;28mself\u001b[39m\u001b[38;5;241m.\u001b[39mlogger\u001b[38;5;241m.\u001b[39minfo(\u001b[38;5;124m'\u001b[39m\u001b[38;5;124mRequesting \u001b[39m\u001b[38;5;132;01m%r\u001b[39;00m\u001b[38;5;124m'\u001b[39m, \u001b[38;5;28mself\u001b[39m\u001b[38;5;241m.\u001b[39m\u001b[38;5;18m__class__\u001b[39m\u001b[38;5;241m.\u001b[39m\u001b[38;5;18m__name__\u001b[39m)\n\u001b[0;32m    353\u001b[0m req \u001b[38;5;241m=\u001b[39m \u001b[38;5;28mself\u001b[39m\u001b[38;5;241m.\u001b[39m_wrap(op)\n\u001b[1;32m--> 354\u001b[0m \u001b[38;5;28;43mself\u001b[39;49m\u001b[38;5;241;43m.\u001b[39;49m\u001b[43m_session\u001b[49m\u001b[38;5;241;43m.\u001b[39;49m\u001b[43msend\u001b[49m\u001b[43m(\u001b[49m\u001b[43mreq\u001b[49m\u001b[43m)\u001b[49m\n\u001b[0;32m    355\u001b[0m \u001b[38;5;28;01mif\u001b[39;00m \u001b[38;5;28mself\u001b[39m\u001b[38;5;241m.\u001b[39m_async:\n\u001b[0;32m    356\u001b[0m     \u001b[38;5;28mself\u001b[39m\u001b[38;5;241m.\u001b[39mlogger\u001b[38;5;241m.\u001b[39mdebug(\u001b[38;5;124m'\u001b[39m\u001b[38;5;124mAsync request, returning \u001b[39m\u001b[38;5;132;01m%r\u001b[39;00m\u001b[38;5;124m'\u001b[39m, \u001b[38;5;28mself\u001b[39m)\n",
      "File \u001b[1;32mc:\\Users\\ehnxnsm\\repos\\yang-analysis\\.venv\\Lib\\site-packages\\ncclient\\transport\\session.py:258\u001b[0m, in \u001b[0;36mSession.send\u001b[1;34m(self, message)\u001b[0m\n\u001b[0;32m    256\u001b[0m \u001b[38;5;250m\u001b[39m\u001b[38;5;124;03m\"\"\"Send the supplied *message* (xml string) to NETCONF server.\"\"\"\u001b[39;00m\n\u001b[0;32m    257\u001b[0m \u001b[38;5;28;01mif\u001b[39;00m \u001b[38;5;129;01mnot\u001b[39;00m \u001b[38;5;28mself\u001b[39m\u001b[38;5;241m.\u001b[39mconnected:\n\u001b[1;32m--> 258\u001b[0m     \u001b[38;5;28;01mraise\u001b[39;00m TransportError(\u001b[38;5;124m'\u001b[39m\u001b[38;5;124mNot connected to NETCONF server\u001b[39m\u001b[38;5;124m'\u001b[39m)\n\u001b[0;32m    259\u001b[0m \u001b[38;5;28mself\u001b[39m\u001b[38;5;241m.\u001b[39mlogger\u001b[38;5;241m.\u001b[39mdebug(\u001b[38;5;124m'\u001b[39m\u001b[38;5;124mqueueing \u001b[39m\u001b[38;5;132;01m%s\u001b[39;00m\u001b[38;5;124m'\u001b[39m, message)\n\u001b[0;32m    260\u001b[0m \u001b[38;5;28mself\u001b[39m\u001b[38;5;241m.\u001b[39m_q\u001b[38;5;241m.\u001b[39mput(message)\n",
      "\u001b[1;31mTransportError\u001b[0m: Not connected to NETCONF server"
     ]
    }
   ],
   "source": [
    "message = '''\n",
    "<nc:get xmlns:nc=\"urn:ietf:params:xml:ns:netconf:base:1.0\" xmlns:bp=\"urn:ieee:std:802.1Q:yang:ieee802-dot1q-bridge\">\n",
    "    <nc:filter type=\"xpath\" select=\"/bp:bridges/bp:bridge/bp:component/bp:filtering-database/bp:vlan-registration-entry\"/>\n",
    "    \n",
    "</nc:get>'''\n",
    "response = m.dispatch(to_ele(message))\n",
    "print_formatted(response.xml)"
   ]
  },
  {
   "cell_type": "code",
   "execution_count": 19,
   "metadata": {},
   "outputs": [
    {
     "name": "stdout",
     "output_type": "stream",
     "text": [
      "printing formatted str: <rpc-reply xmlns=\"urn:ietf:params:xml:ns:netconf:base:1.0\" message-id=\"urn:uuid:4c190cab-370a-4260-897f-efd1445c6c98\"><data/></rpc-reply>\n",
      "<?xml version=\"1.0\" ?>\n",
      "<rpc-reply xmlns=\"urn:ietf:params:xml:ns:netconf:base:1.0\" message-id=\"urn:uuid:4c190cab-370a-4260-897f-efd1445c6c98\">\n",
      "\t<data/>\n",
      "</rpc-reply>\n",
      "\n"
     ]
    }
   ],
   "source": [
    "message = '''<nc:get xmlns:nc=\"urn:ietf:params:xml:ns:netconf:base:1.0\" xmlns:bp=\"urn:ieee:std:802.1Q:yang:ieee802-dot1q-bridge\">\n",
    "    <nc:filter type=\"xpath\" select=\"bp:bridges/bp:bridge[name='BRIDGE']/bp:component[name='POTATO']\"/>\n",
    "</nc:get> '''\n",
    "response = m.dispatch(to_ele(message))\n",
    "print_formatted(response.xml)"
   ]
  },
  {
   "cell_type": "markdown",
   "metadata": {},
   "source": [
    "# listing interfaces double filter"
   ]
  },
  {
   "cell_type": "code",
   "execution_count": 10,
   "metadata": {},
   "outputs": [
    {
     "name": "stdout",
     "output_type": "stream",
     "text": [
      "printing formatted str: <rpc-reply xmlns=\"urn:ietf:params:xml:ns:netconf:base:1.0\" message-id=\"urn:uuid:53884f9a-a66e-4adb-af77-9716089ffbfa\"><data xmlns=\"urn:ietf:params:xml:ns:yang:ietf-netconf-nmda\"><interfaces xmlns=\"urn:ietf:params:xml:ns:yang:ietf-interfaces\"><interface><name>LAN 1/2/4</name><oper-status>up</oper-status></interface></interfaces></data></rpc-reply>\n",
      "<?xml version=\"1.0\" ?>\n",
      "<rpc-reply xmlns=\"urn:ietf:params:xml:ns:netconf:base:1.0\" message-id=\"urn:uuid:53884f9a-a66e-4adb-af77-9716089ffbfa\">\n",
      "\t<data xmlns=\"urn:ietf:params:xml:ns:yang:ietf-netconf-nmda\">\n",
      "\t\t<interfaces xmlns=\"urn:ietf:params:xml:ns:yang:ietf-interfaces\">\n",
      "\t\t\t<interface>\n",
      "\t\t\t\t<name>LAN 1/2/4</name>\n",
      "\t\t\t\t<oper-status>up</oper-status>\n",
      "\t\t\t</interface>\n",
      "\t\t</interfaces>\n",
      "\t</data>\n",
      "</rpc-reply>\n",
      "\n"
     ]
    }
   ],
   "source": [
    "message = '''\n",
    "<get-data xmlns=\"urn:ietf:params:xml:ns:yang:ietf-netconf-nmda\">\n",
    "  <datastore xmlns:ds=\"urn:ietf:params:xml:ns:yang:ietf-datastores\">ds:operational</datastore>\n",
    "  <xpath-filter xmlns:if=\"urn:ietf:params:xml:ns:yang:ietf-interfaces\"\n",
    "                xmlns:dot1q=\"urn:ieee:std:802.1Q:yang:ieee802-dot1q-bridge\"\n",
    "                xmlns:ianaift=\"urn:ietf:params:xml:ns:yang:iana-if-type\">\n",
    "      /if:interfaces/if:interface[if:type=derived-from-or-self(if:type, 'ianaift:ethernetCsmacd')][(name=\"LAN 1/2/4\")]/oper-status\n",
    "  </xpath-filter>\n",
    "  <max-depth>unbounded</max-depth>\n",
    "</get-data>\n",
    "'''\n",
    "response = m.dispatch(to_ele(message))\n",
    "print_formatted(response.xml)"
   ]
  },
  {
   "cell_type": "markdown",
   "metadata": {},
   "source": [
    "# listing interfaces all"
   ]
  },
  {
   "cell_type": "code",
   "execution_count": 18,
   "metadata": {},
   "outputs": [
    {
     "name": "stdout",
     "output_type": "stream",
     "text": [
      "printing formatted str: <rpc-reply xmlns=\"urn:ietf:params:xml:ns:netconf:base:1.0\" message-id=\"urn:uuid:fd6f9262-8ea3-4871-9fde-0fb78aae329e\"><data xmlns=\"urn:ietf:params:xml:ns:yang:ietf-netconf-nmda\"><interfaces xmlns=\"urn:ietf:params:xml:ns:yang:ietf-interfaces\"><interface><name>LAN 1/2/4</name><description>Tápiószecső</description><type xmlns:eiml=\"urn:rdns:com:ericsson:oammodel:ericsson-interface-mini-link\">eiml:lanInterface</type><enabled>true</enabled><link-up-down-trap-enable>enabled</link-up-down-trap-enable><admin-status>up</admin-status><oper-status>up</oper-status><last-change>2024-11-28T15:51:33+01:00</last-change><if-index>2134638852</if-index><phys-address>98:c5:db:85:8d:67</phys-address><speed>1000000000</speed><statistics><in-octets>644495</in-octets><in-unicast-pkts>1</in-unicast-pkts><in-broadcast-pkts>0</in-broadcast-pkts><in-multicast-pkts>9244</in-multicast-pkts><in-discards>9188</in-discards><in-errors>0</in-errors><out-octets>4242</out-octets><out-unicast-pkts>0</out-unicast-pkts><out-broadcast-pkts>5</out-broadcast-pkts><out-multicast-pkts>55</out-multicast-pkts><out-discards>0</out-discards><out-errors>0</out-errors></statistics><synce xmlns=\"urn:rdns:com:ericsson:oammodel:ericsson-lan-mini-link\"><mode>synce-with-esmc</mode><phy-role>slave</phy-role></synce><mdix xmlns=\"urn:rdns:com:ericsson:oammodel:ericsson-lan-mini-link\"><mode>auto</mode></mdix><bridge-port xmlns=\"urn:ieee:std:802.1Q:yang:ieee802-dot1q-bridge\"><bridge-name>BRIDGE</bridge-name><component-name>DEFAULT</component-name><port-type>provider-network-port</port-type><pvid>1</pvid><enable-ingress-filtering>true</enable-ingress-filtering><port-number>2</port-number></bridge-port><ethernet xmlns=\"urn:ieee:std:802.3:yang:ieee802-ethernet-interface\"><auto-negotiation><enable>true</enable></auto-negotiation><duplex>full</duplex><speed>1.0</speed><flow-control><pause><direction>disabled</direction></pause><force-flow-control>true</force-flow-control></flow-control><capabilities><auto-negotiation>true</auto-negotiation><supported-speeds xmlns=\"urn:rdns:com:ericsson:oammodel:ericsson-lan-mini-link\">ETH_IF_SPEED_CAP_10M</supported-speeds><supported-speeds xmlns=\"urn:rdns:com:ericsson:oammodel:ericsson-lan-mini-link\">ETH_IF_SPEED_CAP_100M</supported-speeds><supported-speeds xmlns=\"urn:rdns:com:ericsson:oammodel:ericsson-lan-mini-link\">ETH_IF_SPEED_CAP_1G</supported-speeds></capabilities></ethernet></interface><interface><name>LAN 1/2/5</name><description/><type xmlns:eiml=\"urn:rdns:com:ericsson:oammodel:ericsson-interface-mini-link\">eiml:lanInterface</type><enabled>true</enabled><link-up-down-trap-enable>enabled</link-up-down-trap-enable><admin-status>up</admin-status><oper-status>up</oper-status><last-change>2024-11-28T15:51:34+01:00</last-change><if-index>2134638853</if-index><phys-address>98:c5:db:85:8d:66</phys-address><speed>1000000000</speed><statistics><in-octets>104162</in-octets><in-unicast-pkts>239</in-unicast-pkts><in-broadcast-pkts>197</in-broadcast-pkts><in-multicast-pkts>126</in-multicast-pkts><in-discards>34</in-discards><in-errors>0</in-errors><out-octets>103190</out-octets><out-unicast-pkts>219</out-unicast-pkts><out-broadcast-pkts>6</out-broadcast-pkts><out-multicast-pkts>48</out-multicast-pkts><out-discards>0</out-discards><out-errors>0</out-errors></statistics><synce xmlns=\"urn:rdns:com:ericsson:oammodel:ericsson-lan-mini-link\"><mode>synce-with-esmc</mode><phy-role>master</phy-role></synce><mdix xmlns=\"urn:rdns:com:ericsson:oammodel:ericsson-lan-mini-link\"><mode>auto</mode></mdix><bridge-port xmlns=\"urn:ieee:std:802.1Q:yang:ieee802-dot1q-bridge\"><bridge-name>BRIDGE</bridge-name><component-name>DEFAULT</component-name><port-type>c-vlan-bridge-port</port-type><pvid>1</pvid><enable-ingress-filtering>true</enable-ingress-filtering><port-number>3</port-number></bridge-port><ethernet xmlns=\"urn:ieee:std:802.3:yang:ieee802-ethernet-interface\"><auto-negotiation><enable>true</enable></auto-negotiation><duplex>full</duplex><speed>1.0</speed><flow-control><pause><direction>disabled</direction></pause><force-flow-control>true</force-flow-control></flow-control><capabilities><auto-negotiation>true</auto-negotiation><supported-speeds xmlns=\"urn:rdns:com:ericsson:oammodel:ericsson-lan-mini-link\">ETH_IF_SPEED_CAP_10M</supported-speeds><supported-speeds xmlns=\"urn:rdns:com:ericsson:oammodel:ericsson-lan-mini-link\">ETH_IF_SPEED_CAP_100M</supported-speeds><supported-speeds xmlns=\"urn:rdns:com:ericsson:oammodel:ericsson-lan-mini-link\">ETH_IF_SPEED_CAP_1G</supported-speeds></capabilities></ethernet></interface><interface><name>LAN-DCN 1/2/0</name><description/><type xmlns:eiml=\"urn:rdns:com:ericsson:oammodel:ericsson-interface-mini-link\">eiml:lanDcnInterface</type><enabled>true</enabled><link-up-down-trap-enable>enabled</link-up-down-trap-enable><admin-status>up</admin-status><oper-status>up</oper-status><last-change>2024-11-28T15:49:00+01:00</last-change><if-index>2134671616</if-index><phys-address>98:c5:db:85:8d:5d</phys-address><speed>100000000</speed><bridge-port xmlns=\"urn:ieee:std:802.1Q:yang:ieee802-dot1q-bridge\"><bridge-name>BRIDGE</bridge-name><component-name>DEFAULT</component-name><port-type>c-vlan-bridge-port</port-type><pvid>1</pvid><enable-ingress-filtering>true</enable-ingress-filtering><port-number>1</port-number></bridge-port><ethernet xmlns=\"urn:ieee:std:802.3:yang:ieee802-ethernet-interface\"><duplex>full</duplex><flow-control><force-flow-control>false</force-flow-control></flow-control></ethernet></interface></interfaces></data></rpc-reply>\n",
      "<?xml version=\"1.0\" ?>\n",
      "<rpc-reply xmlns=\"urn:ietf:params:xml:ns:netconf:base:1.0\" message-id=\"urn:uuid:fd6f9262-8ea3-4871-9fde-0fb78aae329e\">\n",
      "\t<data xmlns=\"urn:ietf:params:xml:ns:yang:ietf-netconf-nmda\">\n",
      "\t\t<interfaces xmlns=\"urn:ietf:params:xml:ns:yang:ietf-interfaces\">\n",
      "\t\t\t<interface>\n",
      "\t\t\t\t<name>LAN 1/2/4</name>\n",
      "\t\t\t\t<description>Tápiószecső</description>\n",
      "\t\t\t\t<type xmlns:eiml=\"urn:rdns:com:ericsson:oammodel:ericsson-interface-mini-link\">eiml:lanInterface</type>\n",
      "\t\t\t\t<enabled>true</enabled>\n",
      "\t\t\t\t<link-up-down-trap-enable>enabled</link-up-down-trap-enable>\n",
      "\t\t\t\t<admin-status>up</admin-status>\n",
      "\t\t\t\t<oper-status>up</oper-status>\n",
      "\t\t\t\t<last-change>2024-11-28T15:51:33+01:00</last-change>\n",
      "\t\t\t\t<if-index>2134638852</if-index>\n",
      "\t\t\t\t<phys-address>98:c5:db:85:8d:67</phys-address>\n",
      "\t\t\t\t<speed>1000000000</speed>\n",
      "\t\t\t\t<statistics>\n",
      "\t\t\t\t\t<in-octets>644495</in-octets>\n",
      "\t\t\t\t\t<in-unicast-pkts>1</in-unicast-pkts>\n",
      "\t\t\t\t\t<in-broadcast-pkts>0</in-broadcast-pkts>\n",
      "\t\t\t\t\t<in-multicast-pkts>9244</in-multicast-pkts>\n",
      "\t\t\t\t\t<in-discards>9188</in-discards>\n",
      "\t\t\t\t\t<in-errors>0</in-errors>\n",
      "\t\t\t\t\t<out-octets>4242</out-octets>\n",
      "\t\t\t\t\t<out-unicast-pkts>0</out-unicast-pkts>\n",
      "\t\t\t\t\t<out-broadcast-pkts>5</out-broadcast-pkts>\n",
      "\t\t\t\t\t<out-multicast-pkts>55</out-multicast-pkts>\n",
      "\t\t\t\t\t<out-discards>0</out-discards>\n",
      "\t\t\t\t\t<out-errors>0</out-errors>\n",
      "\t\t\t\t</statistics>\n",
      "\t\t\t\t<synce xmlns=\"urn:rdns:com:ericsson:oammodel:ericsson-lan-mini-link\">\n",
      "\t\t\t\t\t<mode>synce-with-esmc</mode>\n",
      "\t\t\t\t\t<phy-role>slave</phy-role>\n",
      "\t\t\t\t</synce>\n",
      "\t\t\t\t<mdix xmlns=\"urn:rdns:com:ericsson:oammodel:ericsson-lan-mini-link\">\n",
      "\t\t\t\t\t<mode>auto</mode>\n",
      "\t\t\t\t</mdix>\n",
      "\t\t\t\t<bridge-port xmlns=\"urn:ieee:std:802.1Q:yang:ieee802-dot1q-bridge\">\n",
      "\t\t\t\t\t<bridge-name>BRIDGE</bridge-name>\n",
      "\t\t\t\t\t<component-name>DEFAULT</component-name>\n",
      "\t\t\t\t\t<port-type>provider-network-port</port-type>\n",
      "\t\t\t\t\t<pvid>1</pvid>\n",
      "\t\t\t\t\t<enable-ingress-filtering>true</enable-ingress-filtering>\n",
      "\t\t\t\t\t<port-number>2</port-number>\n",
      "\t\t\t\t</bridge-port>\n",
      "\t\t\t\t<ethernet xmlns=\"urn:ieee:std:802.3:yang:ieee802-ethernet-interface\">\n",
      "\t\t\t\t\t<auto-negotiation>\n",
      "\t\t\t\t\t\t<enable>true</enable>\n",
      "\t\t\t\t\t</auto-negotiation>\n",
      "\t\t\t\t\t<duplex>full</duplex>\n",
      "\t\t\t\t\t<speed>1.0</speed>\n",
      "\t\t\t\t\t<flow-control>\n",
      "\t\t\t\t\t\t<pause>\n",
      "\t\t\t\t\t\t\t<direction>disabled</direction>\n",
      "\t\t\t\t\t\t</pause>\n",
      "\t\t\t\t\t\t<force-flow-control>true</force-flow-control>\n",
      "\t\t\t\t\t</flow-control>\n",
      "\t\t\t\t\t<capabilities>\n",
      "\t\t\t\t\t\t<auto-negotiation>true</auto-negotiation>\n",
      "\t\t\t\t\t\t<supported-speeds xmlns=\"urn:rdns:com:ericsson:oammodel:ericsson-lan-mini-link\">ETH_IF_SPEED_CAP_10M</supported-speeds>\n",
      "\t\t\t\t\t\t<supported-speeds xmlns=\"urn:rdns:com:ericsson:oammodel:ericsson-lan-mini-link\">ETH_IF_SPEED_CAP_100M</supported-speeds>\n",
      "\t\t\t\t\t\t<supported-speeds xmlns=\"urn:rdns:com:ericsson:oammodel:ericsson-lan-mini-link\">ETH_IF_SPEED_CAP_1G</supported-speeds>\n",
      "\t\t\t\t\t</capabilities>\n",
      "\t\t\t\t</ethernet>\n",
      "\t\t\t</interface>\n",
      "\t\t\t<interface>\n",
      "\t\t\t\t<name>LAN 1/2/5</name>\n",
      "\t\t\t\t<description/>\n",
      "\t\t\t\t<type xmlns:eiml=\"urn:rdns:com:ericsson:oammodel:ericsson-interface-mini-link\">eiml:lanInterface</type>\n",
      "\t\t\t\t<enabled>true</enabled>\n",
      "\t\t\t\t<link-up-down-trap-enable>enabled</link-up-down-trap-enable>\n",
      "\t\t\t\t<admin-status>up</admin-status>\n",
      "\t\t\t\t<oper-status>up</oper-status>\n",
      "\t\t\t\t<last-change>2024-11-28T15:51:34+01:00</last-change>\n",
      "\t\t\t\t<if-index>2134638853</if-index>\n",
      "\t\t\t\t<phys-address>98:c5:db:85:8d:66</phys-address>\n",
      "\t\t\t\t<speed>1000000000</speed>\n",
      "\t\t\t\t<statistics>\n",
      "\t\t\t\t\t<in-octets>104162</in-octets>\n",
      "\t\t\t\t\t<in-unicast-pkts>239</in-unicast-pkts>\n",
      "\t\t\t\t\t<in-broadcast-pkts>197</in-broadcast-pkts>\n",
      "\t\t\t\t\t<in-multicast-pkts>126</in-multicast-pkts>\n",
      "\t\t\t\t\t<in-discards>34</in-discards>\n",
      "\t\t\t\t\t<in-errors>0</in-errors>\n",
      "\t\t\t\t\t<out-octets>103190</out-octets>\n",
      "\t\t\t\t\t<out-unicast-pkts>219</out-unicast-pkts>\n",
      "\t\t\t\t\t<out-broadcast-pkts>6</out-broadcast-pkts>\n",
      "\t\t\t\t\t<out-multicast-pkts>48</out-multicast-pkts>\n",
      "\t\t\t\t\t<out-discards>0</out-discards>\n",
      "\t\t\t\t\t<out-errors>0</out-errors>\n",
      "\t\t\t\t</statistics>\n",
      "\t\t\t\t<synce xmlns=\"urn:rdns:com:ericsson:oammodel:ericsson-lan-mini-link\">\n",
      "\t\t\t\t\t<mode>synce-with-esmc</mode>\n",
      "\t\t\t\t\t<phy-role>master</phy-role>\n",
      "\t\t\t\t</synce>\n",
      "\t\t\t\t<mdix xmlns=\"urn:rdns:com:ericsson:oammodel:ericsson-lan-mini-link\">\n",
      "\t\t\t\t\t<mode>auto</mode>\n",
      "\t\t\t\t</mdix>\n",
      "\t\t\t\t<bridge-port xmlns=\"urn:ieee:std:802.1Q:yang:ieee802-dot1q-bridge\">\n",
      "\t\t\t\t\t<bridge-name>BRIDGE</bridge-name>\n",
      "\t\t\t\t\t<component-name>DEFAULT</component-name>\n",
      "\t\t\t\t\t<port-type>c-vlan-bridge-port</port-type>\n",
      "\t\t\t\t\t<pvid>1</pvid>\n",
      "\t\t\t\t\t<enable-ingress-filtering>true</enable-ingress-filtering>\n",
      "\t\t\t\t\t<port-number>3</port-number>\n",
      "\t\t\t\t</bridge-port>\n",
      "\t\t\t\t<ethernet xmlns=\"urn:ieee:std:802.3:yang:ieee802-ethernet-interface\">\n",
      "\t\t\t\t\t<auto-negotiation>\n",
      "\t\t\t\t\t\t<enable>true</enable>\n",
      "\t\t\t\t\t</auto-negotiation>\n",
      "\t\t\t\t\t<duplex>full</duplex>\n",
      "\t\t\t\t\t<speed>1.0</speed>\n",
      "\t\t\t\t\t<flow-control>\n",
      "\t\t\t\t\t\t<pause>\n",
      "\t\t\t\t\t\t\t<direction>disabled</direction>\n",
      "\t\t\t\t\t\t</pause>\n",
      "\t\t\t\t\t\t<force-flow-control>true</force-flow-control>\n",
      "\t\t\t\t\t</flow-control>\n",
      "\t\t\t\t\t<capabilities>\n",
      "\t\t\t\t\t\t<auto-negotiation>true</auto-negotiation>\n",
      "\t\t\t\t\t\t<supported-speeds xmlns=\"urn:rdns:com:ericsson:oammodel:ericsson-lan-mini-link\">ETH_IF_SPEED_CAP_10M</supported-speeds>\n",
      "\t\t\t\t\t\t<supported-speeds xmlns=\"urn:rdns:com:ericsson:oammodel:ericsson-lan-mini-link\">ETH_IF_SPEED_CAP_100M</supported-speeds>\n",
      "\t\t\t\t\t\t<supported-speeds xmlns=\"urn:rdns:com:ericsson:oammodel:ericsson-lan-mini-link\">ETH_IF_SPEED_CAP_1G</supported-speeds>\n",
      "\t\t\t\t\t</capabilities>\n",
      "\t\t\t\t</ethernet>\n",
      "\t\t\t</interface>\n",
      "\t\t\t<interface>\n",
      "\t\t\t\t<name>LAN-DCN 1/2/0</name>\n",
      "\t\t\t\t<description/>\n",
      "\t\t\t\t<type xmlns:eiml=\"urn:rdns:com:ericsson:oammodel:ericsson-interface-mini-link\">eiml:lanDcnInterface</type>\n",
      "\t\t\t\t<enabled>true</enabled>\n",
      "\t\t\t\t<link-up-down-trap-enable>enabled</link-up-down-trap-enable>\n",
      "\t\t\t\t<admin-status>up</admin-status>\n",
      "\t\t\t\t<oper-status>up</oper-status>\n",
      "\t\t\t\t<last-change>2024-11-28T15:49:00+01:00</last-change>\n",
      "\t\t\t\t<if-index>2134671616</if-index>\n",
      "\t\t\t\t<phys-address>98:c5:db:85:8d:5d</phys-address>\n",
      "\t\t\t\t<speed>100000000</speed>\n",
      "\t\t\t\t<bridge-port xmlns=\"urn:ieee:std:802.1Q:yang:ieee802-dot1q-bridge\">\n",
      "\t\t\t\t\t<bridge-name>BRIDGE</bridge-name>\n",
      "\t\t\t\t\t<component-name>DEFAULT</component-name>\n",
      "\t\t\t\t\t<port-type>c-vlan-bridge-port</port-type>\n",
      "\t\t\t\t\t<pvid>1</pvid>\n",
      "\t\t\t\t\t<enable-ingress-filtering>true</enable-ingress-filtering>\n",
      "\t\t\t\t\t<port-number>1</port-number>\n",
      "\t\t\t\t</bridge-port>\n",
      "\t\t\t\t<ethernet xmlns=\"urn:ieee:std:802.3:yang:ieee802-ethernet-interface\">\n",
      "\t\t\t\t\t<duplex>full</duplex>\n",
      "\t\t\t\t\t<flow-control>\n",
      "\t\t\t\t\t\t<force-flow-control>false</force-flow-control>\n",
      "\t\t\t\t\t</flow-control>\n",
      "\t\t\t\t</ethernet>\n",
      "\t\t\t</interface>\n",
      "\t\t</interfaces>\n",
      "\t</data>\n",
      "</rpc-reply>\n",
      "\n"
     ]
    }
   ],
   "source": [
    "message = '''\n",
    "<get-data xmlns=\"urn:ietf:params:xml:ns:yang:ietf-netconf-nmda\">\n",
    "  <datastore xmlns:ds=\"urn:ietf:params:xml:ns:yang:ietf-datastores\">ds:operational</datastore>\n",
    "  <xpath-filter xmlns:if=\"urn:ietf:params:xml:ns:yang:ietf-interfaces\"\n",
    "                xmlns:dot1q=\"urn:ieee:std:802.1Q:yang:ieee802-dot1q-bridge\"\n",
    "                xmlns:ianaift=\"urn:ietf:params:xml:ns:yang:iana-if-type\">\n",
    "      /if:interfaces/if:interface[if:type=derived-from-or-self(if:type, 'ianaift:ethernetCsmacd')]\n",
    "  </xpath-filter>\n",
    "  <max-depth>unbounded</max-depth>\n",
    "</get-data>\n",
    "'''\n",
    "response = m.dispatch(to_ele(message))\n",
    "print_formatted(response.xml)\n",
    "chime.success()"
   ]
  },
  {
   "cell_type": "markdown",
   "metadata": {},
   "source": [
    "# listing interfaces all and some of the fields"
   ]
  },
  {
   "cell_type": "code",
   "execution_count": 38,
   "metadata": {},
   "outputs": [
    {
     "name": "stderr",
     "output_type": "stream",
     "text": [
      "Socket exception: An existing connection was forcibly closed by the remote host (10054)\n"
     ]
    },
    {
     "ename": "SessionCloseError",
     "evalue": "Unexpected session close",
     "output_type": "error",
     "traceback": [
      "\u001b[1;31m---------------------------------------------------------------------------\u001b[0m",
      "\u001b[1;31mSessionCloseError\u001b[0m                         Traceback (most recent call last)",
      "Cell \u001b[1;32mIn[38], line 12\u001b[0m\n\u001b[0;32m      1\u001b[0m message \u001b[38;5;241m=\u001b[39m \u001b[38;5;124m'''\u001b[39m\n\u001b[0;32m      2\u001b[0m \u001b[38;5;124m<get-data xmlns=\u001b[39m\u001b[38;5;124m\"\u001b[39m\u001b[38;5;124murn:ietf:params:xml:ns:yang:ietf-netconf-nmda\u001b[39m\u001b[38;5;124m\"\u001b[39m\u001b[38;5;124m>\u001b[39m\n\u001b[0;32m      3\u001b[0m \u001b[38;5;124m  <datastore xmlns:ds=\u001b[39m\u001b[38;5;124m\"\u001b[39m\u001b[38;5;124murn:ietf:params:xml:ns:yang:ietf-datastores\u001b[39m\u001b[38;5;124m\"\u001b[39m\u001b[38;5;124m>ds:operational</datastore>\u001b[39m\n\u001b[1;32m   (...)\u001b[0m\n\u001b[0;32m     10\u001b[0m \u001b[38;5;124m</get-data>\u001b[39m\n\u001b[0;32m     11\u001b[0m \u001b[38;5;124m'''\u001b[39m\n\u001b[1;32m---> 12\u001b[0m response \u001b[38;5;241m=\u001b[39m \u001b[43mm\u001b[49m\u001b[38;5;241;43m.\u001b[39;49m\u001b[43mdispatch\u001b[49m\u001b[43m(\u001b[49m\u001b[43mto_ele\u001b[49m\u001b[43m(\u001b[49m\u001b[43mmessage\u001b[49m\u001b[43m)\u001b[49m\u001b[43m)\u001b[49m\n\u001b[0;32m     13\u001b[0m print_formatted(response\u001b[38;5;241m.\u001b[39mxml)\n\u001b[0;32m     14\u001b[0m m\u001b[38;5;241m.\u001b[39m\u001b[38;5;21m__exit__\u001b[39m()\n",
      "File \u001b[1;32mc:\\Users\\ehnxnsm\\repos\\yang-analysis\\.venv\\Lib\\site-packages\\ncclient\\manager.py:257\u001b[0m, in \u001b[0;36mManager.execute\u001b[1;34m(self, cls, *args, **kwds)\u001b[0m\n\u001b[0;32m    256\u001b[0m \u001b[38;5;28;01mdef\u001b[39;00m \u001b[38;5;21mexecute\u001b[39m(\u001b[38;5;28mself\u001b[39m, \u001b[38;5;28mcls\u001b[39m, \u001b[38;5;241m*\u001b[39margs, \u001b[38;5;241m*\u001b[39m\u001b[38;5;241m*\u001b[39mkwds):\n\u001b[1;32m--> 257\u001b[0m     \u001b[38;5;28;01mreturn\u001b[39;00m \u001b[38;5;28;43mcls\u001b[39;49m\u001b[43m(\u001b[49m\u001b[38;5;28;43mself\u001b[39;49m\u001b[38;5;241;43m.\u001b[39;49m\u001b[43m_session\u001b[49m\u001b[43m,\u001b[49m\n\u001b[0;32m    258\u001b[0m \u001b[43m               \u001b[49m\u001b[43mdevice_handler\u001b[49m\u001b[38;5;241;43m=\u001b[39;49m\u001b[38;5;28;43mself\u001b[39;49m\u001b[38;5;241;43m.\u001b[39;49m\u001b[43m_device_handler\u001b[49m\u001b[43m,\u001b[49m\n\u001b[0;32m    259\u001b[0m \u001b[43m               \u001b[49m\u001b[43masync_mode\u001b[49m\u001b[38;5;241;43m=\u001b[39;49m\u001b[38;5;28;43mself\u001b[39;49m\u001b[38;5;241;43m.\u001b[39;49m\u001b[43m_async_mode\u001b[49m\u001b[43m,\u001b[49m\n\u001b[0;32m    260\u001b[0m \u001b[43m               \u001b[49m\u001b[43mtimeout\u001b[49m\u001b[38;5;241;43m=\u001b[39;49m\u001b[38;5;28;43mself\u001b[39;49m\u001b[38;5;241;43m.\u001b[39;49m\u001b[43m_timeout\u001b[49m\u001b[43m,\u001b[49m\n\u001b[0;32m    261\u001b[0m \u001b[43m               \u001b[49m\u001b[43mraise_mode\u001b[49m\u001b[38;5;241;43m=\u001b[39;49m\u001b[38;5;28;43mself\u001b[39;49m\u001b[38;5;241;43m.\u001b[39;49m\u001b[43m_raise_mode\u001b[49m\u001b[43m,\u001b[49m\n\u001b[0;32m    262\u001b[0m \u001b[43m               \u001b[49m\u001b[43mhuge_tree\u001b[49m\u001b[38;5;241;43m=\u001b[39;49m\u001b[38;5;28;43mself\u001b[39;49m\u001b[38;5;241;43m.\u001b[39;49m\u001b[43m_huge_tree\u001b[49m\u001b[43m)\u001b[49m\u001b[38;5;241;43m.\u001b[39;49m\u001b[43mrequest\u001b[49m\u001b[43m(\u001b[49m\u001b[38;5;241;43m*\u001b[39;49m\u001b[43margs\u001b[49m\u001b[43m,\u001b[49m\u001b[43m \u001b[49m\u001b[38;5;241;43m*\u001b[39;49m\u001b[38;5;241;43m*\u001b[39;49m\u001b[43mkwds\u001b[49m\u001b[43m)\u001b[49m\n",
      "File \u001b[1;32mc:\\Users\\ehnxnsm\\repos\\yang-analysis\\.venv\\Lib\\site-packages\\ncclient\\operations\\retrieve.py:240\u001b[0m, in \u001b[0;36mDispatch.request\u001b[1;34m(self, rpc_command, source, filter)\u001b[0m\n\u001b[0;32m    237\u001b[0m \u001b[38;5;28;01mif\u001b[39;00m \u001b[38;5;28mfilter\u001b[39m \u001b[38;5;129;01mis\u001b[39;00m \u001b[38;5;129;01mnot\u001b[39;00m \u001b[38;5;28;01mNone\u001b[39;00m:\n\u001b[0;32m    238\u001b[0m     node\u001b[38;5;241m.\u001b[39mappend(util\u001b[38;5;241m.\u001b[39mbuild_filter(\u001b[38;5;28mfilter\u001b[39m))\n\u001b[1;32m--> 240\u001b[0m \u001b[38;5;28;01mreturn\u001b[39;00m \u001b[38;5;28;43mself\u001b[39;49m\u001b[38;5;241;43m.\u001b[39;49m\u001b[43m_request\u001b[49m\u001b[43m(\u001b[49m\u001b[43mnode\u001b[49m\u001b[43m)\u001b[49m\n",
      "File \u001b[1;32mc:\\Users\\ehnxnsm\\repos\\yang-analysis\\.venv\\Lib\\site-packages\\ncclient\\operations\\rpc.py:364\u001b[0m, in \u001b[0;36mRPC._request\u001b[1;34m(self, op)\u001b[0m\n\u001b[0;32m    361\u001b[0m \u001b[38;5;28;01mif\u001b[39;00m \u001b[38;5;28mself\u001b[39m\u001b[38;5;241m.\u001b[39m_event\u001b[38;5;241m.\u001b[39mis_set():\n\u001b[0;32m    362\u001b[0m     \u001b[38;5;28;01mif\u001b[39;00m \u001b[38;5;28mself\u001b[39m\u001b[38;5;241m.\u001b[39m_error:\n\u001b[0;32m    363\u001b[0m         \u001b[38;5;66;03m# Error that prevented reply delivery\u001b[39;00m\n\u001b[1;32m--> 364\u001b[0m         \u001b[38;5;28;01mraise\u001b[39;00m \u001b[38;5;28mself\u001b[39m\u001b[38;5;241m.\u001b[39m_error\n\u001b[0;32m    365\u001b[0m     \u001b[38;5;28mself\u001b[39m\u001b[38;5;241m.\u001b[39m_reply\u001b[38;5;241m.\u001b[39mparse()\n\u001b[0;32m    366\u001b[0m     \u001b[38;5;28;01mif\u001b[39;00m \u001b[38;5;28mself\u001b[39m\u001b[38;5;241m.\u001b[39m_reply\u001b[38;5;241m.\u001b[39merror \u001b[38;5;129;01mis\u001b[39;00m \u001b[38;5;129;01mnot\u001b[39;00m \u001b[38;5;28;01mNone\u001b[39;00m \u001b[38;5;129;01mand\u001b[39;00m \u001b[38;5;129;01mnot\u001b[39;00m \u001b[38;5;28mself\u001b[39m\u001b[38;5;241m.\u001b[39m_device_handler\u001b[38;5;241m.\u001b[39mis_rpc_error_exempt(\u001b[38;5;28mself\u001b[39m\u001b[38;5;241m.\u001b[39m_reply\u001b[38;5;241m.\u001b[39merror\u001b[38;5;241m.\u001b[39mmessage):\n\u001b[0;32m    367\u001b[0m         \u001b[38;5;66;03m# <rpc-error>'s [ RPCError ]\u001b[39;00m\n",
      "File \u001b[1;32mc:\\Users\\ehnxnsm\\repos\\yang-analysis\\.venv\\Lib\\site-packages\\ncclient\\transport\\session.py:236\u001b[0m, in \u001b[0;36mSession.run\u001b[1;34m(self)\u001b[0m\n\u001b[0;32m    233\u001b[0m         \u001b[38;5;28;01mbreak\u001b[39;00m\n\u001b[0;32m    234\u001b[0m     \u001b[38;5;28;01melse\u001b[39;00m:\n\u001b[0;32m    235\u001b[0m         \u001b[38;5;66;03m# End of session, unexpected\u001b[39;00m\n\u001b[1;32m--> 236\u001b[0m         \u001b[38;5;28;01mraise\u001b[39;00m SessionCloseError(\u001b[38;5;28mself\u001b[39m\u001b[38;5;241m.\u001b[39m_buffer\u001b[38;5;241m.\u001b[39mgetvalue())\n\u001b[0;32m    237\u001b[0m \u001b[38;5;28;01mif\u001b[39;00m \u001b[38;5;129;01mnot\u001b[39;00m q\u001b[38;5;241m.\u001b[39mempty() \u001b[38;5;129;01mand\u001b[39;00m \u001b[38;5;28mself\u001b[39m\u001b[38;5;241m.\u001b[39m_send_ready():\n\u001b[0;32m    238\u001b[0m     \u001b[38;5;28mself\u001b[39m\u001b[38;5;241m.\u001b[39mlogger\u001b[38;5;241m.\u001b[39mdebug(\u001b[38;5;124m\"\u001b[39m\u001b[38;5;124mSending message\u001b[39m\u001b[38;5;124m\"\u001b[39m)\n",
      "\u001b[1;31mSessionCloseError\u001b[0m: Unexpected session close"
     ]
    }
   ],
   "source": [
    "message = '''\n",
    "<get-data xmlns=\"urn:ietf:params:xml:ns:yang:ietf-netconf-nmda\">\n",
    "  <datastore xmlns:ds=\"urn:ietf:params:xml:ns:yang:ietf-datastores\">ds:operational</datastore>\n",
    "  <xpath-filter xmlns:if=\"urn:ietf:params:xml:ns:yang:ietf-interfaces\"\n",
    "                xmlns:dot1q=\"urn:ieee:std:802.1Q:yang:ieee802-dot1q-bridge\"\n",
    "                xmlns:ianaift=\"urn:ietf:params:xml:ns:yang:iana-if-type\">\n",
    "      /if:interfaces/if:interface[if:type=derived-from-or-self(if:type, 'ianaift:ethernetCsmacd')]/ethernet/flow-control/pause\n",
    "  </xpath-filter>\n",
    "  <max-depth>unbounded</max-depth>\n",
    "</get-data>\n",
    "'''\n",
    "response = m.dispatch(to_ele(message))\n",
    "print_formatted(response.xml)\n",
    "m.__exit__()\n"
   ]
  },
  {
   "cell_type": "code",
   "execution_count": 4,
   "metadata": {},
   "outputs": [
    {
     "ename": "RPCError",
     "evalue": "Node \"rpc\" not found in the \"ietf-netconf\" module.",
     "output_type": "error",
     "traceback": [
      "\u001b[1;31m---------------------------------------------------------------------------\u001b[0m",
      "\u001b[1;31mRPCError\u001b[0m                                  Traceback (most recent call last)",
      "Cell \u001b[1;32mIn[4], line 7\u001b[0m\n\u001b[0;32m      1\u001b[0m message \u001b[38;5;241m=\u001b[39m \u001b[38;5;124m'''\u001b[39m\n\u001b[0;32m      2\u001b[0m \u001b[38;5;124m     <nc:rpc xmlns:nc=\u001b[39m\u001b[38;5;124m\"\u001b[39m\u001b[38;5;124murn:ietf:params:xml:ns:netconf:base:1.0\u001b[39m\u001b[38;5;124m\"\u001b[39m\u001b[38;5;124m message-id=\u001b[39m\u001b[38;5;124m\"\u001b[39m\u001b[38;5;124m45\u001b[39m\u001b[38;5;124m\"\u001b[39m\u001b[38;5;124m>\u001b[39m\n\u001b[0;32m      3\u001b[0m \u001b[38;5;124m          <get/>\u001b[39m\n\u001b[0;32m      4\u001b[0m \u001b[38;5;124m     </nc:rpc>\u001b[39m\n\u001b[0;32m      5\u001b[0m \u001b[38;5;124m'''\u001b[39m\n\u001b[1;32m----> 7\u001b[0m response \u001b[38;5;241m=\u001b[39m \u001b[43mm\u001b[49m\u001b[38;5;241;43m.\u001b[39;49m\u001b[43mdispatch\u001b[49m\u001b[43m(\u001b[49m\u001b[43mto_ele\u001b[49m\u001b[43m(\u001b[49m\u001b[43mmessage\u001b[49m\u001b[43m)\u001b[49m\u001b[43m)\u001b[49m\n\u001b[0;32m      8\u001b[0m print_formatted(response\u001b[38;5;241m.\u001b[39mxml)\n",
      "File \u001b[1;32mc:\\Users\\ehnxnsm\\repos\\yang-analysis\\.venv\\Lib\\site-packages\\ncclient\\manager.py:257\u001b[0m, in \u001b[0;36mManager.execute\u001b[1;34m(self, cls, *args, **kwds)\u001b[0m\n\u001b[0;32m    256\u001b[0m \u001b[38;5;28;01mdef\u001b[39;00m \u001b[38;5;21mexecute\u001b[39m(\u001b[38;5;28mself\u001b[39m, \u001b[38;5;28mcls\u001b[39m, \u001b[38;5;241m*\u001b[39margs, \u001b[38;5;241m*\u001b[39m\u001b[38;5;241m*\u001b[39mkwds):\n\u001b[1;32m--> 257\u001b[0m     \u001b[38;5;28;01mreturn\u001b[39;00m \u001b[38;5;28;43mcls\u001b[39;49m\u001b[43m(\u001b[49m\u001b[38;5;28;43mself\u001b[39;49m\u001b[38;5;241;43m.\u001b[39;49m\u001b[43m_session\u001b[49m\u001b[43m,\u001b[49m\n\u001b[0;32m    258\u001b[0m \u001b[43m               \u001b[49m\u001b[43mdevice_handler\u001b[49m\u001b[38;5;241;43m=\u001b[39;49m\u001b[38;5;28;43mself\u001b[39;49m\u001b[38;5;241;43m.\u001b[39;49m\u001b[43m_device_handler\u001b[49m\u001b[43m,\u001b[49m\n\u001b[0;32m    259\u001b[0m \u001b[43m               \u001b[49m\u001b[43masync_mode\u001b[49m\u001b[38;5;241;43m=\u001b[39;49m\u001b[38;5;28;43mself\u001b[39;49m\u001b[38;5;241;43m.\u001b[39;49m\u001b[43m_async_mode\u001b[49m\u001b[43m,\u001b[49m\n\u001b[0;32m    260\u001b[0m \u001b[43m               \u001b[49m\u001b[43mtimeout\u001b[49m\u001b[38;5;241;43m=\u001b[39;49m\u001b[38;5;28;43mself\u001b[39;49m\u001b[38;5;241;43m.\u001b[39;49m\u001b[43m_timeout\u001b[49m\u001b[43m,\u001b[49m\n\u001b[0;32m    261\u001b[0m \u001b[43m               \u001b[49m\u001b[43mraise_mode\u001b[49m\u001b[38;5;241;43m=\u001b[39;49m\u001b[38;5;28;43mself\u001b[39;49m\u001b[38;5;241;43m.\u001b[39;49m\u001b[43m_raise_mode\u001b[49m\u001b[43m,\u001b[49m\n\u001b[0;32m    262\u001b[0m \u001b[43m               \u001b[49m\u001b[43mhuge_tree\u001b[49m\u001b[38;5;241;43m=\u001b[39;49m\u001b[38;5;28;43mself\u001b[39;49m\u001b[38;5;241;43m.\u001b[39;49m\u001b[43m_huge_tree\u001b[49m\u001b[43m)\u001b[49m\u001b[38;5;241;43m.\u001b[39;49m\u001b[43mrequest\u001b[49m\u001b[43m(\u001b[49m\u001b[38;5;241;43m*\u001b[39;49m\u001b[43margs\u001b[49m\u001b[43m,\u001b[49m\u001b[43m \u001b[49m\u001b[38;5;241;43m*\u001b[39;49m\u001b[38;5;241;43m*\u001b[39;49m\u001b[43mkwds\u001b[49m\u001b[43m)\u001b[49m\n",
      "File \u001b[1;32mc:\\Users\\ehnxnsm\\repos\\yang-analysis\\.venv\\Lib\\site-packages\\ncclient\\operations\\retrieve.py:240\u001b[0m, in \u001b[0;36mDispatch.request\u001b[1;34m(self, rpc_command, source, filter)\u001b[0m\n\u001b[0;32m    237\u001b[0m \u001b[38;5;28;01mif\u001b[39;00m \u001b[38;5;28mfilter\u001b[39m \u001b[38;5;129;01mis\u001b[39;00m \u001b[38;5;129;01mnot\u001b[39;00m \u001b[38;5;28;01mNone\u001b[39;00m:\n\u001b[0;32m    238\u001b[0m     node\u001b[38;5;241m.\u001b[39mappend(util\u001b[38;5;241m.\u001b[39mbuild_filter(\u001b[38;5;28mfilter\u001b[39m))\n\u001b[1;32m--> 240\u001b[0m \u001b[38;5;28;01mreturn\u001b[39;00m \u001b[38;5;28;43mself\u001b[39;49m\u001b[38;5;241;43m.\u001b[39;49m\u001b[43m_request\u001b[49m\u001b[43m(\u001b[49m\u001b[43mnode\u001b[49m\u001b[43m)\u001b[49m\n",
      "File \u001b[1;32mc:\\Users\\ehnxnsm\\repos\\yang-analysis\\.venv\\Lib\\site-packages\\ncclient\\operations\\rpc.py:375\u001b[0m, in \u001b[0;36mRPC._request\u001b[1;34m(self, op)\u001b[0m\n\u001b[0;32m    373\u001b[0m             \u001b[38;5;28;01mraise\u001b[39;00m RPCError(to_ele(\u001b[38;5;28mself\u001b[39m\u001b[38;5;241m.\u001b[39m_reply\u001b[38;5;241m.\u001b[39m_raw), errs\u001b[38;5;241m=\u001b[39merrors)\n\u001b[0;32m    374\u001b[0m         \u001b[38;5;28;01melse\u001b[39;00m:\n\u001b[1;32m--> 375\u001b[0m             \u001b[38;5;28;01mraise\u001b[39;00m \u001b[38;5;28mself\u001b[39m\u001b[38;5;241m.\u001b[39m_reply\u001b[38;5;241m.\u001b[39merror\n\u001b[0;32m    376\u001b[0m \u001b[38;5;28;01mif\u001b[39;00m \u001b[38;5;28mself\u001b[39m\u001b[38;5;241m.\u001b[39m_device_handler\u001b[38;5;241m.\u001b[39mtransform_reply():\n\u001b[0;32m    377\u001b[0m     \u001b[38;5;28;01mreturn\u001b[39;00m NCElement(\u001b[38;5;28mself\u001b[39m\u001b[38;5;241m.\u001b[39m_reply, \u001b[38;5;28mself\u001b[39m\u001b[38;5;241m.\u001b[39m_device_handler\u001b[38;5;241m.\u001b[39mtransform_reply(), huge_tree\u001b[38;5;241m=\u001b[39m\u001b[38;5;28mself\u001b[39m\u001b[38;5;241m.\u001b[39m_huge_tree)\n",
      "\u001b[1;31mRPCError\u001b[0m: Node \"rpc\" not found in the \"ietf-netconf\" module."
     ]
    }
   ],
   "source": [
    "message = '''\n",
    "     <nc:rpc xmlns:nc=\"urn:ietf:params:xml:ns:netconf:base:1.0\" message-id=\"45\">\n",
    "          <get/>\n",
    "     </nc:rpc>\n",
    "'''\n",
    "\n",
    "response = m.dispatch(to_ele(message))\n",
    "print_formatted(response.xml)"
   ]
  },
  {
   "cell_type": "markdown",
   "metadata": {},
   "source": [
    "# vlan registration entry record"
   ]
  },
  {
   "cell_type": "code",
   "execution_count": 14,
   "metadata": {},
   "outputs": [
    {
     "name": "stdout",
     "output_type": "stream",
     "text": [
      "printing formatted str: <rpc-reply xmlns=\"urn:ietf:params:xml:ns:netconf:base:1.0\" message-id=\"urn:uuid:e565bbaa-e7a2-410c-a591-7a032058dc18\"><ok/></rpc-reply>\n",
      "<?xml version=\"1.0\" ?>\n",
      "<rpc-reply xmlns=\"urn:ietf:params:xml:ns:netconf:base:1.0\" message-id=\"urn:uuid:e565bbaa-e7a2-410c-a591-7a032058dc18\">\n",
      "\t<ok/>\n",
      "</rpc-reply>\n",
      "\n"
     ]
    }
   ],
   "source": [
    "message = '''\n",
    "<nc:edit-config xmlns:nc=\"urn:ietf:params:xml:ns:netconf:base:1.0\">\n",
    "  <nc:target>\n",
    "    <nc:running/>\n",
    "  </nc:target>\n",
    "  <nc:config>\n",
    "    <dot1q:bridges xmlns:dot1q=\"urn:ieee:std:802.1Q:yang:ieee802-dot1q-bridge\">\n",
    "      <dot1q:bridge>\n",
    "        <dot1q:name>BRIDGE</dot1q:name>\n",
    "        <dot1q:component>\n",
    "          <dot1q:name>DEFAULT</dot1q:name>\n",
    "          <dot1q:bridge-vlan>\n",
    "            <dot1q:vlan>\n",
    "              <dot1q:vid>1234</dot1q:vid>\n",
    "            </dot1q:vlan>\n",
    "          </dot1q:bridge-vlan>\n",
    "          <dot1q:filtering-database>\n",
    "            <dot1q:vlan-registration-entry>\n",
    "              <dot1q:database-id>1</dot1q:database-id>\n",
    "              <dot1q:vids>1234</dot1q:vids>\n",
    "              <dot1q:entry-type>static</dot1q:entry-type>\n",
    "            </dot1q:vlan-registration-entry>\n",
    "          </dot1q:filtering-database>\n",
    "        </dot1q:component>\n",
    "      </dot1q:bridge>\n",
    "    </dot1q:bridges>\n",
    "  </nc:config>\n",
    "</nc:edit-config>\n",
    "'''\n",
    "\n",
    "response = m.dispatch(to_ele(message))\n",
    "print_formatted(response.xml)"
   ]
  },
  {
   "cell_type": "markdown",
   "metadata": {},
   "source": [
    "# creating vlan without operation tag"
   ]
  },
  {
   "cell_type": "code",
   "execution_count": 70,
   "metadata": {},
   "outputs": [
    {
     "name": "stdout",
     "output_type": "stream",
     "text": [
      "printing formatted str: <rpc-reply xmlns=\"urn:ietf:params:xml:ns:netconf:base:1.0\" message-id=\"urn:uuid:fc7f57eb-7215-4ebf-8c78-a8d16256b81e\"><ok/></rpc-reply>\n",
      "<?xml version=\"1.0\" ?>\n",
      "<rpc-reply xmlns=\"urn:ietf:params:xml:ns:netconf:base:1.0\" message-id=\"urn:uuid:fc7f57eb-7215-4ebf-8c78-a8d16256b81e\">\n",
      "\t<ok/>\n",
      "</rpc-reply>\n",
      "\n"
     ]
    }
   ],
   "source": [
    "message = '''\n",
    "<nc:edit-config xmlns:nc=\"urn:ietf:params:xml:ns:netconf:base:1.0\">\n",
    "  <nc:target>\n",
    "    <nc:running/>\n",
    "  </nc:target>\n",
    "  <nc:config>\n",
    "    <dot1q:bridges xmlns:dot1q=\"urn:ieee:std:802.1Q:yang:ieee802-dot1q-bridge\">\n",
    "      <dot1q:bridge>\n",
    "        <dot1q:name>BRIDGE</dot1q:name>\n",
    "        <dot1q:component>\n",
    "          <dot1q:name>DEFAULT</dot1q:name>\n",
    "          <dot1q:bridge-vlan>\n",
    "            <dot1q:vlan>\n",
    "              <dot1q:vid>1234</dot1q:vid>\n",
    "            </dot1q:vlan>\n",
    "          </dot1q:bridge-vlan>\n",
    "          <dot1q:filtering-database>\n",
    "            <dot1q:vlan-registration-entry>\n",
    "              <dot1q:database-id>1</dot1q:database-id>\n",
    "              <dot1q:vids>1234</dot1q:vids>\n",
    "              <dot1q:entry-type>static</dot1q:entry-type>\n",
    "              <dot1q:port-map>\n",
    "                <dot1q:port-ref>2</dot1q:port-ref>\n",
    "                <dot1q:static-vlan-registration-entries>\n",
    "                  <dot1q:registrar-admin-control>fixed-new-ignored</dot1q:registrar-admin-control>\n",
    "                  <dot1q:vlan-transmitted>tagged</dot1q:vlan-transmitted>\n",
    "                </dot1q:static-vlan-registration-entries>\n",
    "              </dot1q:port-map>\n",
    "            </dot1q:vlan-registration-entry>\n",
    "          </dot1q:filtering-database>\n",
    "        </dot1q:component>\n",
    "      </dot1q:bridge>\n",
    "    </dot1q:bridges>\n",
    "  </nc:config>\n",
    "</nc:edit-config>\n",
    "'''\n",
    "\n",
    "response = m.dispatch(to_ele(message))\n",
    "print_formatted(response.xml)"
   ]
  },
  {
   "cell_type": "markdown",
   "metadata": {},
   "source": [
    "# creating vlan and port mapping"
   ]
  },
  {
   "cell_type": "code",
   "execution_count": 11,
   "metadata": {},
   "outputs": [
    {
     "name": "stdout",
     "output_type": "stream",
     "text": [
      "printing formatted str: <rpc-reply xmlns=\"urn:ietf:params:xml:ns:netconf:base:1.0\" message-id=\"urn:uuid:aebd2fcb-d985-41ea-a2fa-08be76478729\"><ok/></rpc-reply>\n",
      "<?xml version=\"1.0\" ?>\n",
      "<rpc-reply xmlns=\"urn:ietf:params:xml:ns:netconf:base:1.0\" message-id=\"urn:uuid:aebd2fcb-d985-41ea-a2fa-08be76478729\">\n",
      "\t<ok/>\n",
      "</rpc-reply>\n",
      "\n"
     ]
    }
   ],
   "source": [
    "message = '''\n",
    "<nc:edit-config xmlns:nc=\"urn:ietf:params:xml:ns:netconf:base:1.0\">\n",
    "  <nc:target>\n",
    "    <nc:running/>\n",
    "  </nc:target>\n",
    "  <nc:config>\n",
    "    <dot1q:bridges xmlns:dot1q=\"urn:ieee:std:802.1Q:yang:ieee802-dot1q-bridge\">\n",
    "      <dot1q:bridge>\n",
    "        <dot1q:name>BRIDGE</dot1q:name>\n",
    "        <dot1q:component>\n",
    "          <dot1q:name>DEFAULT</dot1q:name>\n",
    "          <dot1q:bridge-vlan>\n",
    "            <dot1q:vlan nc:operation=\"create\">\n",
    "              <dot1q:vid>1234</dot1q:vid>\n",
    "            </dot1q:vlan>\n",
    "          </dot1q:bridge-vlan>\n",
    "          <dot1q:filtering-database>\n",
    "            <dot1q:vlan-registration-entry nc:operation=\"create\">\n",
    "              <dot1q:database-id>1</dot1q:database-id>\n",
    "              <dot1q:vids>1234</dot1q:vids>\n",
    "              <dot1q:entry-type>static</dot1q:entry-type>\n",
    "              <dot1q:port-map nc:operation=\"create\">\n",
    "                <dot1q:port-ref>2</dot1q:port-ref>\n",
    "                <dot1q:static-vlan-registration-entries>\n",
    "                  <dot1q:registrar-admin-control>fixed-new-ignored</dot1q:registrar-admin-control>\n",
    "                  <dot1q:vlan-transmitted>tagged</dot1q:vlan-transmitted>\n",
    "                </dot1q:static-vlan-registration-entries>\n",
    "              </dot1q:port-map>\n",
    "            </dot1q:vlan-registration-entry>\n",
    "          </dot1q:filtering-database>\n",
    "        </dot1q:component>\n",
    "      </dot1q:bridge>\n",
    "    </dot1q:bridges>\n",
    "  </nc:config>\n",
    "</nc:edit-config>\n",
    "'''\n",
    "\n",
    "response = m.dispatch(to_ele(message))\n",
    "print_formatted(response.xml)"
   ]
  },
  {
   "cell_type": "markdown",
   "metadata": {},
   "source": [
    "# deleting bridge and registration entry and ports"
   ]
  },
  {
   "cell_type": "code",
   "execution_count": 6,
   "metadata": {},
   "outputs": [
    {
     "ename": "RPCError",
     "evalue": "error: Node \"port-map\" to be deleted does not exist.\nerror: Applying operation \"delete\" failed.",
     "output_type": "error",
     "traceback": [
      "\u001b[1;31m---------------------------------------------------------------------------\u001b[0m",
      "\u001b[1;31mRPCError\u001b[0m                                  Traceback (most recent call last)",
      "Cell \u001b[1;32mIn[6], line 33\u001b[0m\n\u001b[0;32m      1\u001b[0m message \u001b[38;5;241m=\u001b[39m \u001b[38;5;124m'''\u001b[39m\n\u001b[0;32m      2\u001b[0m \u001b[38;5;124m<nc:edit-config xmlns:nc=\u001b[39m\u001b[38;5;124m\"\u001b[39m\u001b[38;5;124murn:ietf:params:xml:ns:netconf:base:1.0\u001b[39m\u001b[38;5;124m\"\u001b[39m\u001b[38;5;124m>\u001b[39m\n\u001b[0;32m      3\u001b[0m \u001b[38;5;124m  <nc:target>\u001b[39m\n\u001b[1;32m   (...)\u001b[0m\n\u001b[0;32m     30\u001b[0m \u001b[38;5;124m</nc:edit-config>\u001b[39m\n\u001b[0;32m     31\u001b[0m \u001b[38;5;124m'''\u001b[39m\n\u001b[1;32m---> 33\u001b[0m response \u001b[38;5;241m=\u001b[39m \u001b[43mm\u001b[49m\u001b[38;5;241;43m.\u001b[39;49m\u001b[43mdispatch\u001b[49m\u001b[43m(\u001b[49m\u001b[43mto_ele\u001b[49m\u001b[43m(\u001b[49m\u001b[43mmessage\u001b[49m\u001b[43m)\u001b[49m\u001b[43m)\u001b[49m\n\u001b[0;32m     34\u001b[0m print_formatted(response\u001b[38;5;241m.\u001b[39mxml)\n",
      "File \u001b[1;32mc:\\Users\\ehnxnsm\\repos\\yang-analysis\\.venv\\Lib\\site-packages\\ncclient\\manager.py:257\u001b[0m, in \u001b[0;36mManager.execute\u001b[1;34m(self, cls, *args, **kwds)\u001b[0m\n\u001b[0;32m    256\u001b[0m \u001b[38;5;28;01mdef\u001b[39;00m \u001b[38;5;21mexecute\u001b[39m(\u001b[38;5;28mself\u001b[39m, \u001b[38;5;28mcls\u001b[39m, \u001b[38;5;241m*\u001b[39margs, \u001b[38;5;241m*\u001b[39m\u001b[38;5;241m*\u001b[39mkwds):\n\u001b[1;32m--> 257\u001b[0m     \u001b[38;5;28;01mreturn\u001b[39;00m \u001b[38;5;28;43mcls\u001b[39;49m\u001b[43m(\u001b[49m\u001b[38;5;28;43mself\u001b[39;49m\u001b[38;5;241;43m.\u001b[39;49m\u001b[43m_session\u001b[49m\u001b[43m,\u001b[49m\n\u001b[0;32m    258\u001b[0m \u001b[43m               \u001b[49m\u001b[43mdevice_handler\u001b[49m\u001b[38;5;241;43m=\u001b[39;49m\u001b[38;5;28;43mself\u001b[39;49m\u001b[38;5;241;43m.\u001b[39;49m\u001b[43m_device_handler\u001b[49m\u001b[43m,\u001b[49m\n\u001b[0;32m    259\u001b[0m \u001b[43m               \u001b[49m\u001b[43masync_mode\u001b[49m\u001b[38;5;241;43m=\u001b[39;49m\u001b[38;5;28;43mself\u001b[39;49m\u001b[38;5;241;43m.\u001b[39;49m\u001b[43m_async_mode\u001b[49m\u001b[43m,\u001b[49m\n\u001b[0;32m    260\u001b[0m \u001b[43m               \u001b[49m\u001b[43mtimeout\u001b[49m\u001b[38;5;241;43m=\u001b[39;49m\u001b[38;5;28;43mself\u001b[39;49m\u001b[38;5;241;43m.\u001b[39;49m\u001b[43m_timeout\u001b[49m\u001b[43m,\u001b[49m\n\u001b[0;32m    261\u001b[0m \u001b[43m               \u001b[49m\u001b[43mraise_mode\u001b[49m\u001b[38;5;241;43m=\u001b[39;49m\u001b[38;5;28;43mself\u001b[39;49m\u001b[38;5;241;43m.\u001b[39;49m\u001b[43m_raise_mode\u001b[49m\u001b[43m,\u001b[49m\n\u001b[0;32m    262\u001b[0m \u001b[43m               \u001b[49m\u001b[43mhuge_tree\u001b[49m\u001b[38;5;241;43m=\u001b[39;49m\u001b[38;5;28;43mself\u001b[39;49m\u001b[38;5;241;43m.\u001b[39;49m\u001b[43m_huge_tree\u001b[49m\u001b[43m)\u001b[49m\u001b[38;5;241;43m.\u001b[39;49m\u001b[43mrequest\u001b[49m\u001b[43m(\u001b[49m\u001b[38;5;241;43m*\u001b[39;49m\u001b[43margs\u001b[49m\u001b[43m,\u001b[49m\u001b[43m \u001b[49m\u001b[38;5;241;43m*\u001b[39;49m\u001b[38;5;241;43m*\u001b[39;49m\u001b[43mkwds\u001b[49m\u001b[43m)\u001b[49m\n",
      "File \u001b[1;32mc:\\Users\\ehnxnsm\\repos\\yang-analysis\\.venv\\Lib\\site-packages\\ncclient\\operations\\retrieve.py:240\u001b[0m, in \u001b[0;36mDispatch.request\u001b[1;34m(self, rpc_command, source, filter)\u001b[0m\n\u001b[0;32m    237\u001b[0m \u001b[38;5;28;01mif\u001b[39;00m \u001b[38;5;28mfilter\u001b[39m \u001b[38;5;129;01mis\u001b[39;00m \u001b[38;5;129;01mnot\u001b[39;00m \u001b[38;5;28;01mNone\u001b[39;00m:\n\u001b[0;32m    238\u001b[0m     node\u001b[38;5;241m.\u001b[39mappend(util\u001b[38;5;241m.\u001b[39mbuild_filter(\u001b[38;5;28mfilter\u001b[39m))\n\u001b[1;32m--> 240\u001b[0m \u001b[38;5;28;01mreturn\u001b[39;00m \u001b[38;5;28;43mself\u001b[39;49m\u001b[38;5;241;43m.\u001b[39;49m\u001b[43m_request\u001b[49m\u001b[43m(\u001b[49m\u001b[43mnode\u001b[49m\u001b[43m)\u001b[49m\n",
      "File \u001b[1;32mc:\\Users\\ehnxnsm\\repos\\yang-analysis\\.venv\\Lib\\site-packages\\ncclient\\operations\\rpc.py:373\u001b[0m, in \u001b[0;36mRPC._request\u001b[1;34m(self, op)\u001b[0m\n\u001b[0;32m    371\u001b[0m errors \u001b[38;5;241m=\u001b[39m \u001b[38;5;28mself\u001b[39m\u001b[38;5;241m.\u001b[39m_reply\u001b[38;5;241m.\u001b[39merrors\n\u001b[0;32m    372\u001b[0m \u001b[38;5;28;01mif\u001b[39;00m \u001b[38;5;28mlen\u001b[39m(errors) \u001b[38;5;241m>\u001b[39m \u001b[38;5;241m1\u001b[39m:\n\u001b[1;32m--> 373\u001b[0m     \u001b[38;5;28;01mraise\u001b[39;00m RPCError(to_ele(\u001b[38;5;28mself\u001b[39m\u001b[38;5;241m.\u001b[39m_reply\u001b[38;5;241m.\u001b[39m_raw), errs\u001b[38;5;241m=\u001b[39merrors)\n\u001b[0;32m    374\u001b[0m \u001b[38;5;28;01melse\u001b[39;00m:\n\u001b[0;32m    375\u001b[0m     \u001b[38;5;28;01mraise\u001b[39;00m \u001b[38;5;28mself\u001b[39m\u001b[38;5;241m.\u001b[39m_reply\u001b[38;5;241m.\u001b[39merror\n",
      "\u001b[1;31mRPCError\u001b[0m: error: Node \"port-map\" to be deleted does not exist.\nerror: Applying operation \"delete\" failed."
     ]
    }
   ],
   "source": [
    "message = '''\n",
    "<nc:edit-config xmlns:nc=\"urn:ietf:params:xml:ns:netconf:base:1.0\">\n",
    "  <nc:target>\n",
    "    <nc:running/>\n",
    "  </nc:target>\n",
    "  <nc:config>\n",
    "    <dot1q:bridges xmlns:dot1q=\"urn:ieee:std:802.1Q:yang:ieee802-dot1q-bridge\">\n",
    "      <dot1q:bridge>\n",
    "        <dot1q:name>BRIDGE</dot1q:name>\n",
    "        <dot1q:component>\n",
    "          <dot1q:name>DEFAULT</dot1q:name>\n",
    "          <dot1q:bridge-vlan>\n",
    "            <dot1q:vlan nc:operation=\"delete\">\n",
    "              <dot1q:vid>1234</dot1q:vid>\n",
    "            </dot1q:vlan>\n",
    "          </dot1q:bridge-vlan>\n",
    "          <dot1q:filtering-database>\n",
    "            <dot1q:vlan-registration-entry nc:operation=\"delete\">\n",
    "              <dot1q:database-id>1</dot1q:database-id>\n",
    "              <dot1q:vids>1234</dot1q:vids>\n",
    "              <dot1q:port-map nc:operation=\"delete\">\n",
    "                <dot1q:port-ref>2</dot1q:port-ref>\n",
    "              </dot1q:port-map>\n",
    "            </dot1q:vlan-registration-entry>\n",
    "          </dot1q:filtering-database>\n",
    "        </dot1q:component>\n",
    "      </dot1q:bridge>\n",
    "    </dot1q:bridges>\n",
    "  </nc:config>\n",
    "</nc:edit-config>\n",
    "'''\n",
    "\n",
    "response = m.dispatch(to_ele(message))\n",
    "print_formatted(response.xml)"
   ]
  },
  {
   "cell_type": "markdown",
   "metadata": {},
   "source": [
    "# deleting bridge and registration entry "
   ]
  },
  {
   "cell_type": "code",
   "execution_count": 63,
   "metadata": {},
   "outputs": [
    {
     "name": "stdout",
     "output_type": "stream",
     "text": [
      "printing formatted str: <rpc-reply xmlns=\"urn:ietf:params:xml:ns:netconf:base:1.0\" message-id=\"urn:uuid:9c6fb0a3-96fe-472d-850c-db77c807f2d9\"><ok/></rpc-reply>\n",
      "<?xml version=\"1.0\" ?>\n",
      "<rpc-reply xmlns=\"urn:ietf:params:xml:ns:netconf:base:1.0\" message-id=\"urn:uuid:9c6fb0a3-96fe-472d-850c-db77c807f2d9\">\n",
      "\t<ok/>\n",
      "</rpc-reply>\n",
      "\n"
     ]
    }
   ],
   "source": [
    "message = '''\n",
    "<nc:edit-config xmlns:nc=\"urn:ietf:params:xml:ns:netconf:base:1.0\">\n",
    "  <nc:target>\n",
    "    <nc:running/>\n",
    "  </nc:target>\n",
    "  <nc:config>\n",
    "    <dot1q:bridges xmlns:dot1q=\"urn:ieee:std:802.1Q:yang:ieee802-dot1q-bridge\">\n",
    "      <dot1q:bridge>\n",
    "        <dot1q:name>BRIDGE</dot1q:name>\n",
    "        <dot1q:component>\n",
    "          <dot1q:name>DEFAULT</dot1q:name>\n",
    "          <dot1q:bridge-vlan>\n",
    "            <dot1q:vlan nc:operation=\"delete\">\n",
    "              <dot1q:vid>1234</dot1q:vid>\n",
    "            </dot1q:vlan>\n",
    "          </dot1q:bridge-vlan>\n",
    "          <dot1q:filtering-database>\n",
    "            <dot1q:vlan-registration-entry nc:operation=\"delete\">\n",
    "              <dot1q:database-id>1</dot1q:database-id>\n",
    "              <dot1q:vids>1234</dot1q:vids>\n",
    "            </dot1q:vlan-registration-entry>\n",
    "          </dot1q:filtering-database>\n",
    "        </dot1q:component>\n",
    "      </dot1q:bridge>\n",
    "    </dot1q:bridges>\n",
    "  </nc:config>\n",
    "</nc:edit-config>\n",
    "'''\n",
    "\n",
    "response = m.dispatch(to_ele(message))\n",
    "print_formatted(response.xml)"
   ]
  },
  {
   "cell_type": "markdown",
   "metadata": {},
   "source": [
    "# deleting only ports"
   ]
  },
  {
   "cell_type": "code",
   "execution_count": 71,
   "metadata": {},
   "outputs": [
    {
     "name": "stdout",
     "output_type": "stream",
     "text": [
      "printing formatted str: <rpc-reply xmlns=\"urn:ietf:params:xml:ns:netconf:base:1.0\" message-id=\"urn:uuid:7f9d6b4f-8081-497b-a756-8f43a1390bcf\"><ok/></rpc-reply>\n",
      "<?xml version=\"1.0\" ?>\n",
      "<rpc-reply xmlns=\"urn:ietf:params:xml:ns:netconf:base:1.0\" message-id=\"urn:uuid:7f9d6b4f-8081-497b-a756-8f43a1390bcf\">\n",
      "\t<ok/>\n",
      "</rpc-reply>\n",
      "\n"
     ]
    }
   ],
   "source": [
    "message = '''\n",
    "<nc:edit-config xmlns:nc=\"urn:ietf:params:xml:ns:netconf:base:1.0\">\n",
    "  <nc:target>\n",
    "    <nc:running/>\n",
    "  </nc:target>\n",
    "  <nc:config>\n",
    "    <dot1q:bridges xmlns:dot1q=\"urn:ieee:std:802.1Q:yang:ieee802-dot1q-bridge\">\n",
    "      <dot1q:bridge>\n",
    "        <dot1q:name>BRIDGE</dot1q:name>\n",
    "        <dot1q:component>\n",
    "          <dot1q:name>DEFAULT</dot1q:name>\n",
    "          <dot1q:bridge-vlan>\n",
    "            <dot1q:vlan >\n",
    "              <dot1q:vid>1234</dot1q:vid>\n",
    "            </dot1q:vlan>\n",
    "          </dot1q:bridge-vlan>\n",
    "          <dot1q:filtering-database>\n",
    "            <dot1q:vlan-registration-entry >\n",
    "              <dot1q:database-id>1</dot1q:database-id>\n",
    "              <dot1q:vids>1234</dot1q:vids>\n",
    "              <dot1q:port-map nc:operation=\"delete\">\n",
    "                <dot1q:port-ref>2</dot1q:port-ref>\n",
    "              </dot1q:port-map>\n",
    "            </dot1q:vlan-registration-entry>\n",
    "          </dot1q:filtering-database>\n",
    "        </dot1q:component>\n",
    "      </dot1q:bridge>\n",
    "    </dot1q:bridges>\n",
    "  </nc:config>\n",
    "</nc:edit-config>\n",
    "'''\n",
    "\n",
    "response = m.dispatch(to_ele(message))\n",
    "print_formatted(response.xml)"
   ]
  },
  {
   "cell_type": "markdown",
   "metadata": {},
   "source": [
    "# deleting ports from vlan1 (default vlan)"
   ]
  },
  {
   "cell_type": "code",
   "execution_count": 9,
   "metadata": {},
   "outputs": [
    {
     "ename": "RPCError",
     "evalue": "error: Node \"port-map\" to be deleted does not exist.\nerror: Applying operation \"delete\" failed.",
     "output_type": "error",
     "traceback": [
      "\u001b[1;31m---------------------------------------------------------------------------\u001b[0m",
      "\u001b[1;31mRPCError\u001b[0m                                  Traceback (most recent call last)",
      "Cell \u001b[1;32mIn[9], line 33\u001b[0m\n\u001b[0;32m      1\u001b[0m message \u001b[38;5;241m=\u001b[39m \u001b[38;5;124m'''\u001b[39m\n\u001b[0;32m      2\u001b[0m \u001b[38;5;124m<nc:edit-config xmlns:nc=\u001b[39m\u001b[38;5;124m\"\u001b[39m\u001b[38;5;124murn:ietf:params:xml:ns:netconf:base:1.0\u001b[39m\u001b[38;5;124m\"\u001b[39m\u001b[38;5;124m>\u001b[39m\n\u001b[0;32m      3\u001b[0m \u001b[38;5;124m  <nc:target>\u001b[39m\n\u001b[1;32m   (...)\u001b[0m\n\u001b[0;32m     30\u001b[0m \u001b[38;5;124m</nc:edit-config>\u001b[39m\n\u001b[0;32m     31\u001b[0m \u001b[38;5;124m'''\u001b[39m\n\u001b[1;32m---> 33\u001b[0m response \u001b[38;5;241m=\u001b[39m \u001b[43mm\u001b[49m\u001b[38;5;241;43m.\u001b[39;49m\u001b[43mdispatch\u001b[49m\u001b[43m(\u001b[49m\u001b[43mto_ele\u001b[49m\u001b[43m(\u001b[49m\u001b[43mmessage\u001b[49m\u001b[43m)\u001b[49m\u001b[43m)\u001b[49m\n\u001b[0;32m     34\u001b[0m print_formatted(response\u001b[38;5;241m.\u001b[39mxml)\n",
      "File \u001b[1;32mc:\\Users\\ehnxnsm\\repos\\yang-analysis\\.venv\\Lib\\site-packages\\ncclient\\manager.py:257\u001b[0m, in \u001b[0;36mManager.execute\u001b[1;34m(self, cls, *args, **kwds)\u001b[0m\n\u001b[0;32m    256\u001b[0m \u001b[38;5;28;01mdef\u001b[39;00m \u001b[38;5;21mexecute\u001b[39m(\u001b[38;5;28mself\u001b[39m, \u001b[38;5;28mcls\u001b[39m, \u001b[38;5;241m*\u001b[39margs, \u001b[38;5;241m*\u001b[39m\u001b[38;5;241m*\u001b[39mkwds):\n\u001b[1;32m--> 257\u001b[0m     \u001b[38;5;28;01mreturn\u001b[39;00m \u001b[38;5;28;43mcls\u001b[39;49m\u001b[43m(\u001b[49m\u001b[38;5;28;43mself\u001b[39;49m\u001b[38;5;241;43m.\u001b[39;49m\u001b[43m_session\u001b[49m\u001b[43m,\u001b[49m\n\u001b[0;32m    258\u001b[0m \u001b[43m               \u001b[49m\u001b[43mdevice_handler\u001b[49m\u001b[38;5;241;43m=\u001b[39;49m\u001b[38;5;28;43mself\u001b[39;49m\u001b[38;5;241;43m.\u001b[39;49m\u001b[43m_device_handler\u001b[49m\u001b[43m,\u001b[49m\n\u001b[0;32m    259\u001b[0m \u001b[43m               \u001b[49m\u001b[43masync_mode\u001b[49m\u001b[38;5;241;43m=\u001b[39;49m\u001b[38;5;28;43mself\u001b[39;49m\u001b[38;5;241;43m.\u001b[39;49m\u001b[43m_async_mode\u001b[49m\u001b[43m,\u001b[49m\n\u001b[0;32m    260\u001b[0m \u001b[43m               \u001b[49m\u001b[43mtimeout\u001b[49m\u001b[38;5;241;43m=\u001b[39;49m\u001b[38;5;28;43mself\u001b[39;49m\u001b[38;5;241;43m.\u001b[39;49m\u001b[43m_timeout\u001b[49m\u001b[43m,\u001b[49m\n\u001b[0;32m    261\u001b[0m \u001b[43m               \u001b[49m\u001b[43mraise_mode\u001b[49m\u001b[38;5;241;43m=\u001b[39;49m\u001b[38;5;28;43mself\u001b[39;49m\u001b[38;5;241;43m.\u001b[39;49m\u001b[43m_raise_mode\u001b[49m\u001b[43m,\u001b[49m\n\u001b[0;32m    262\u001b[0m \u001b[43m               \u001b[49m\u001b[43mhuge_tree\u001b[49m\u001b[38;5;241;43m=\u001b[39;49m\u001b[38;5;28;43mself\u001b[39;49m\u001b[38;5;241;43m.\u001b[39;49m\u001b[43m_huge_tree\u001b[49m\u001b[43m)\u001b[49m\u001b[38;5;241;43m.\u001b[39;49m\u001b[43mrequest\u001b[49m\u001b[43m(\u001b[49m\u001b[38;5;241;43m*\u001b[39;49m\u001b[43margs\u001b[49m\u001b[43m,\u001b[49m\u001b[43m \u001b[49m\u001b[38;5;241;43m*\u001b[39;49m\u001b[38;5;241;43m*\u001b[39;49m\u001b[43mkwds\u001b[49m\u001b[43m)\u001b[49m\n",
      "File \u001b[1;32mc:\\Users\\ehnxnsm\\repos\\yang-analysis\\.venv\\Lib\\site-packages\\ncclient\\operations\\retrieve.py:240\u001b[0m, in \u001b[0;36mDispatch.request\u001b[1;34m(self, rpc_command, source, filter)\u001b[0m\n\u001b[0;32m    237\u001b[0m \u001b[38;5;28;01mif\u001b[39;00m \u001b[38;5;28mfilter\u001b[39m \u001b[38;5;129;01mis\u001b[39;00m \u001b[38;5;129;01mnot\u001b[39;00m \u001b[38;5;28;01mNone\u001b[39;00m:\n\u001b[0;32m    238\u001b[0m     node\u001b[38;5;241m.\u001b[39mappend(util\u001b[38;5;241m.\u001b[39mbuild_filter(\u001b[38;5;28mfilter\u001b[39m))\n\u001b[1;32m--> 240\u001b[0m \u001b[38;5;28;01mreturn\u001b[39;00m \u001b[38;5;28;43mself\u001b[39;49m\u001b[38;5;241;43m.\u001b[39;49m\u001b[43m_request\u001b[49m\u001b[43m(\u001b[49m\u001b[43mnode\u001b[49m\u001b[43m)\u001b[49m\n",
      "File \u001b[1;32mc:\\Users\\ehnxnsm\\repos\\yang-analysis\\.venv\\Lib\\site-packages\\ncclient\\operations\\rpc.py:373\u001b[0m, in \u001b[0;36mRPC._request\u001b[1;34m(self, op)\u001b[0m\n\u001b[0;32m    371\u001b[0m errors \u001b[38;5;241m=\u001b[39m \u001b[38;5;28mself\u001b[39m\u001b[38;5;241m.\u001b[39m_reply\u001b[38;5;241m.\u001b[39merrors\n\u001b[0;32m    372\u001b[0m \u001b[38;5;28;01mif\u001b[39;00m \u001b[38;5;28mlen\u001b[39m(errors) \u001b[38;5;241m>\u001b[39m \u001b[38;5;241m1\u001b[39m:\n\u001b[1;32m--> 373\u001b[0m     \u001b[38;5;28;01mraise\u001b[39;00m RPCError(to_ele(\u001b[38;5;28mself\u001b[39m\u001b[38;5;241m.\u001b[39m_reply\u001b[38;5;241m.\u001b[39m_raw), errs\u001b[38;5;241m=\u001b[39merrors)\n\u001b[0;32m    374\u001b[0m \u001b[38;5;28;01melse\u001b[39;00m:\n\u001b[0;32m    375\u001b[0m     \u001b[38;5;28;01mraise\u001b[39;00m \u001b[38;5;28mself\u001b[39m\u001b[38;5;241m.\u001b[39m_reply\u001b[38;5;241m.\u001b[39merror\n",
      "\u001b[1;31mRPCError\u001b[0m: error: Node \"port-map\" to be deleted does not exist.\nerror: Applying operation \"delete\" failed."
     ]
    }
   ],
   "source": [
    "message = '''\n",
    "<nc:edit-config xmlns:nc=\"urn:ietf:params:xml:ns:netconf:base:1.0\">\n",
    "  <nc:target>\n",
    "    <nc:running/>\n",
    "  </nc:target>\n",
    "  <nc:config>\n",
    "    <dot1q:bridges xmlns:dot1q=\"urn:ieee:std:802.1Q:yang:ieee802-dot1q-bridge\">\n",
    "      <dot1q:bridge>\n",
    "        <dot1q:name>BRIDGE</dot1q:name>\n",
    "        <dot1q:component>\n",
    "          <dot1q:name>DEFAULT</dot1q:name>\n",
    "          <dot1q:bridge-vlan>\n",
    "            <dot1q:vlan >\n",
    "              <dot1q:vid>1</dot1q:vid>\n",
    "            </dot1q:vlan>\n",
    "          </dot1q:bridge-vlan>\n",
    "          <dot1q:filtering-database>\n",
    "            <dot1q:vlan-registration-entry >\n",
    "              <dot1q:database-id>1</dot1q:database-id>\n",
    "              <dot1q:vids>1</dot1q:vids>\n",
    "              <dot1q:port-map nc:operation=\"delete\">\n",
    "                <dot1q:port-ref>2</dot1q:port-ref>\n",
    "              </dot1q:port-map>\n",
    "            </dot1q:vlan-registration-entry>\n",
    "          </dot1q:filtering-database>\n",
    "        </dot1q:component>\n",
    "      </dot1q:bridge>\n",
    "    </dot1q:bridges>\n",
    "  </nc:config>\n",
    "</nc:edit-config>\n",
    "'''\n",
    "\n",
    "response = m.dispatch(to_ele(message))\n",
    "print_formatted(response.xml)"
   ]
  },
  {
   "cell_type": "markdown",
   "metadata": {},
   "source": [
    "# deleting only vlan"
   ]
  },
  {
   "cell_type": "code",
   "execution_count": 1,
   "metadata": {},
   "outputs": [
    {
     "ename": "NameError",
     "evalue": "name 'm' is not defined",
     "output_type": "error",
     "traceback": [
      "\u001b[1;31m---------------------------------------------------------------------------\u001b[0m",
      "\u001b[1;31mNameError\u001b[0m                                 Traceback (most recent call last)",
      "Cell \u001b[1;32mIn[1], line 30\u001b[0m\n\u001b[0;32m      1\u001b[0m message \u001b[38;5;241m=\u001b[39m \u001b[38;5;124m'''\u001b[39m\n\u001b[0;32m      2\u001b[0m \u001b[38;5;124m<nc:edit-config xmlns:nc=\u001b[39m\u001b[38;5;124m\"\u001b[39m\u001b[38;5;124murn:ietf:params:xml:ns:netconf:base:1.0\u001b[39m\u001b[38;5;124m\"\u001b[39m\u001b[38;5;124m>\u001b[39m\n\u001b[0;32m      3\u001b[0m \u001b[38;5;124m  <nc:target>\u001b[39m\n\u001b[1;32m   (...)\u001b[0m\n\u001b[0;32m     27\u001b[0m \u001b[38;5;124m</nc:edit-config>\u001b[39m\n\u001b[0;32m     28\u001b[0m \u001b[38;5;124m'''\u001b[39m\n\u001b[1;32m---> 30\u001b[0m response \u001b[38;5;241m=\u001b[39m \u001b[43mm\u001b[49m\u001b[38;5;241m.\u001b[39mdispatch(to_ele(message))\n\u001b[0;32m     31\u001b[0m print_formatted(response\u001b[38;5;241m.\u001b[39mxml)\n",
      "\u001b[1;31mNameError\u001b[0m: name 'm' is not defined"
     ]
    }
   ],
   "source": [
    "message = '''\n",
    "<nc:edit-config xmlns:nc=\"urn:ietf:params:xml:ns:netconf:base:1.0\">\n",
    "  <nc:target>\n",
    "    <nc:running/>\n",
    "  </nc:target>\n",
    "  <nc:config>\n",
    "    <dot1q:bridges xmlns:dot1q=\"urn:ieee:std:802.1Q:yang:ieee802-dot1q-bridge\">\n",
    "      <dot1q:bridge>\n",
    "        <dot1q:name>BRIDGE</dot1q:name>\n",
    "        <dot1q:component>\n",
    "          <dot1q:name>DEFAULT</dot1q:name>\n",
    "          <dot1q:bridge-vlan>\n",
    "            <dot1q:vlan nc:operation=\"delete\">\n",
    "              <dot1q:vid>1234</dot1q:vid>\n",
    "            </dot1q:vlan>\n",
    "          </dot1q:bridge-vlan>\n",
    "          <dot1q:filtering-database>\n",
    "            <dot1q:vlan-registration-entry nc:operation=\"delete\">\n",
    "              <dot1q:database-id>1</dot1q:database-id>\n",
    "              <dot1q:vids>1234</dot1q:vids>\n",
    "            </dot1q:vlan-registration-entry>\n",
    "          </dot1q:filtering-database>\n",
    "        </dot1q:component>\n",
    "      </dot1q:bridge>\n",
    "    </dot1q:bridges>\n",
    "  </nc:config>\n",
    "</nc:edit-config>\n",
    "'''\n",
    "\n",
    "response = m.dispatch(to_ele(message))\n",
    "print_formatted(response.xml)"
   ]
  },
  {
   "cell_type": "markdown",
   "metadata": {},
   "source": [
    "# led configuration example script"
   ]
  },
  {
   "cell_type": "code",
   "execution_count": null,
   "metadata": {},
   "outputs": [
    {
     "ename": "RPCError",
     "evalue": "error: Validation failure for led brightness setting, brightness 80, color\nerror: Validation failed",
     "output_type": "error",
     "traceback": [
      "\u001b[1;31m---------------------------------------------------------------------------\u001b[0m",
      "\u001b[1;31mRPCError\u001b[0m                                  Traceback (most recent call last)",
      "Cell \u001b[1;32mIn[9], line 23\u001b[0m\n\u001b[0;32m      1\u001b[0m message \u001b[38;5;241m=\u001b[39m \u001b[38;5;124m'''\u001b[39m\n\u001b[0;32m      2\u001b[0m \u001b[38;5;124m<nc:edit-config xmlns:nc=\u001b[39m\u001b[38;5;124m\"\u001b[39m\u001b[38;5;124murn:ietf:params:xml:ns:netconf:base:1.0\u001b[39m\u001b[38;5;124m\"\u001b[39m\u001b[38;5;124m>\u001b[39m\n\u001b[0;32m      3\u001b[0m \u001b[38;5;124m  <nc:target>\u001b[39m\n\u001b[1;32m   (...)\u001b[0m\n\u001b[0;32m     20\u001b[0m \u001b[38;5;124m</nc:edit-config>\u001b[39m\n\u001b[0;32m     21\u001b[0m \u001b[38;5;124m'''\u001b[39m\n\u001b[1;32m---> 23\u001b[0m response \u001b[38;5;241m=\u001b[39m \u001b[43mm\u001b[49m\u001b[38;5;241;43m.\u001b[39;49m\u001b[43mdispatch\u001b[49m\u001b[43m(\u001b[49m\u001b[43mto_ele\u001b[49m\u001b[43m(\u001b[49m\u001b[43mmessage\u001b[49m\u001b[43m)\u001b[49m\u001b[43m)\u001b[49m\n\u001b[0;32m     24\u001b[0m print_formatted(response\u001b[38;5;241m.\u001b[39mxml)\n",
      "File \u001b[1;32mc:\\Users\\ehnxnsm\\repos\\yang-analysis\\.venv\\Lib\\site-packages\\ncclient\\manager.py:257\u001b[0m, in \u001b[0;36mManager.execute\u001b[1;34m(self, cls, *args, **kwds)\u001b[0m\n\u001b[0;32m    256\u001b[0m \u001b[38;5;28;01mdef\u001b[39;00m \u001b[38;5;21mexecute\u001b[39m(\u001b[38;5;28mself\u001b[39m, \u001b[38;5;28mcls\u001b[39m, \u001b[38;5;241m*\u001b[39margs, \u001b[38;5;241m*\u001b[39m\u001b[38;5;241m*\u001b[39mkwds):\n\u001b[1;32m--> 257\u001b[0m     \u001b[38;5;28;01mreturn\u001b[39;00m \u001b[38;5;28;43mcls\u001b[39;49m\u001b[43m(\u001b[49m\u001b[38;5;28;43mself\u001b[39;49m\u001b[38;5;241;43m.\u001b[39;49m\u001b[43m_session\u001b[49m\u001b[43m,\u001b[49m\n\u001b[0;32m    258\u001b[0m \u001b[43m               \u001b[49m\u001b[43mdevice_handler\u001b[49m\u001b[38;5;241;43m=\u001b[39;49m\u001b[38;5;28;43mself\u001b[39;49m\u001b[38;5;241;43m.\u001b[39;49m\u001b[43m_device_handler\u001b[49m\u001b[43m,\u001b[49m\n\u001b[0;32m    259\u001b[0m \u001b[43m               \u001b[49m\u001b[43masync_mode\u001b[49m\u001b[38;5;241;43m=\u001b[39;49m\u001b[38;5;28;43mself\u001b[39;49m\u001b[38;5;241;43m.\u001b[39;49m\u001b[43m_async_mode\u001b[49m\u001b[43m,\u001b[49m\n\u001b[0;32m    260\u001b[0m \u001b[43m               \u001b[49m\u001b[43mtimeout\u001b[49m\u001b[38;5;241;43m=\u001b[39;49m\u001b[38;5;28;43mself\u001b[39;49m\u001b[38;5;241;43m.\u001b[39;49m\u001b[43m_timeout\u001b[49m\u001b[43m,\u001b[49m\n\u001b[0;32m    261\u001b[0m \u001b[43m               \u001b[49m\u001b[43mraise_mode\u001b[49m\u001b[38;5;241;43m=\u001b[39;49m\u001b[38;5;28;43mself\u001b[39;49m\u001b[38;5;241;43m.\u001b[39;49m\u001b[43m_raise_mode\u001b[49m\u001b[43m,\u001b[49m\n\u001b[0;32m    262\u001b[0m \u001b[43m               \u001b[49m\u001b[43mhuge_tree\u001b[49m\u001b[38;5;241;43m=\u001b[39;49m\u001b[38;5;28;43mself\u001b[39;49m\u001b[38;5;241;43m.\u001b[39;49m\u001b[43m_huge_tree\u001b[49m\u001b[43m)\u001b[49m\u001b[38;5;241;43m.\u001b[39;49m\u001b[43mrequest\u001b[49m\u001b[43m(\u001b[49m\u001b[38;5;241;43m*\u001b[39;49m\u001b[43margs\u001b[49m\u001b[43m,\u001b[49m\u001b[43m \u001b[49m\u001b[38;5;241;43m*\u001b[39;49m\u001b[38;5;241;43m*\u001b[39;49m\u001b[43mkwds\u001b[49m\u001b[43m)\u001b[49m\n",
      "File \u001b[1;32mc:\\Users\\ehnxnsm\\repos\\yang-analysis\\.venv\\Lib\\site-packages\\ncclient\\operations\\retrieve.py:240\u001b[0m, in \u001b[0;36mDispatch.request\u001b[1;34m(self, rpc_command, source, filter)\u001b[0m\n\u001b[0;32m    237\u001b[0m \u001b[38;5;28;01mif\u001b[39;00m \u001b[38;5;28mfilter\u001b[39m \u001b[38;5;129;01mis\u001b[39;00m \u001b[38;5;129;01mnot\u001b[39;00m \u001b[38;5;28;01mNone\u001b[39;00m:\n\u001b[0;32m    238\u001b[0m     node\u001b[38;5;241m.\u001b[39mappend(util\u001b[38;5;241m.\u001b[39mbuild_filter(\u001b[38;5;28mfilter\u001b[39m))\n\u001b[1;32m--> 240\u001b[0m \u001b[38;5;28;01mreturn\u001b[39;00m \u001b[38;5;28;43mself\u001b[39;49m\u001b[38;5;241;43m.\u001b[39;49m\u001b[43m_request\u001b[49m\u001b[43m(\u001b[49m\u001b[43mnode\u001b[49m\u001b[43m)\u001b[49m\n",
      "File \u001b[1;32mc:\\Users\\ehnxnsm\\repos\\yang-analysis\\.venv\\Lib\\site-packages\\ncclient\\operations\\rpc.py:373\u001b[0m, in \u001b[0;36mRPC._request\u001b[1;34m(self, op)\u001b[0m\n\u001b[0;32m    371\u001b[0m errors \u001b[38;5;241m=\u001b[39m \u001b[38;5;28mself\u001b[39m\u001b[38;5;241m.\u001b[39m_reply\u001b[38;5;241m.\u001b[39merrors\n\u001b[0;32m    372\u001b[0m \u001b[38;5;28;01mif\u001b[39;00m \u001b[38;5;28mlen\u001b[39m(errors) \u001b[38;5;241m>\u001b[39m \u001b[38;5;241m1\u001b[39m:\n\u001b[1;32m--> 373\u001b[0m     \u001b[38;5;28;01mraise\u001b[39;00m RPCError(to_ele(\u001b[38;5;28mself\u001b[39m\u001b[38;5;241m.\u001b[39m_reply\u001b[38;5;241m.\u001b[39m_raw), errs\u001b[38;5;241m=\u001b[39merrors)\n\u001b[0;32m    374\u001b[0m \u001b[38;5;28;01melse\u001b[39;00m:\n\u001b[0;32m    375\u001b[0m     \u001b[38;5;28;01mraise\u001b[39;00m \u001b[38;5;28mself\u001b[39m\u001b[38;5;241m.\u001b[39m_reply\u001b[38;5;241m.\u001b[39merror\n",
      "\u001b[1;31mRPCError\u001b[0m: error: Validation failure for led brightness setting, brightness 80, color\nerror: Validation failed"
     ]
    },
    {
     "name": "stderr",
     "output_type": "stream",
     "text": [
      "Socket exception: An existing connection was forcibly closed by the remote host (10054)\n",
      "Socket exception: An existing connection was forcibly closed by the remote host (10054)\n"
     ]
    }
   ],
   "source": [
    "message = '''\n",
    "<nc:edit-config xmlns:nc=\"urn:ietf:params:xml:ns:netconf:base:1.0\">\n",
    "  <nc:target>\n",
    "    <nc:running/>\n",
    "  </nc:target>\n",
    "  <nc:config>\n",
    "    <eytml:ethernet-interface-leds xmlns:eytml=\"urn:rdns:com:ericsson:oammodel:ericsson-yang-tutorial-mini-link\">\n",
    "      <eytml:led>\n",
    "        <eytml:name>LED(LAN 1/2/4)</eytml:name>\n",
    "        <eytml:color>red</eytml:color>\n",
    "        <eytml:brightness>10</eytml:brightness>\n",
    "      </eytml:led>\n",
    "      <eytml:led>\n",
    "        <eytml:name>LED(LAN 1/2/5)</eytml:name>\n",
    "        <eytml:color>blue</eytml:color>\n",
    "        <eytml:brightness>80</eytml:brightness>\n",
    "      </eytml:led>\n",
    "    </eytml:ethernet-interface-leds>\n",
    "  </nc:config>\n",
    "</nc:edit-config>\n",
    "'''\n",
    "\n",
    "response = m.dispatch(to_ele(message))\n",
    "print_formatted(response.xml)"
   ]
  },
  {
   "cell_type": "markdown",
   "metadata": {},
   "source": [
    "# set interface description name"
   ]
  },
  {
   "cell_type": "code",
   "execution_count": 21,
   "metadata": {},
   "outputs": [
    {
     "ename": "RPCError",
     "evalue": "error: Name contains invalid character\nerror: Validation failed",
     "output_type": "error",
     "traceback": [
      "\u001b[1;31m---------------------------------------------------------------------------\u001b[0m",
      "\u001b[1;31mRPCError\u001b[0m                                  Traceback (most recent call last)",
      "Cell \u001b[1;32mIn[21], line 17\u001b[0m\n\u001b[0;32m      1\u001b[0m message \u001b[38;5;241m=\u001b[39m \u001b[38;5;124m'''\u001b[39m\n\u001b[0;32m      2\u001b[0m \u001b[38;5;124m<nc:edit-config xmlns:nc=\u001b[39m\u001b[38;5;124m\"\u001b[39m\u001b[38;5;124murn:ietf:params:xml:ns:netconf:base:1.0\u001b[39m\u001b[38;5;124m\"\u001b[39m\u001b[38;5;124m>\u001b[39m\n\u001b[0;32m      3\u001b[0m \u001b[38;5;124m  <nc:target>\u001b[39m\n\u001b[1;32m   (...)\u001b[0m\n\u001b[0;32m     14\u001b[0m \u001b[38;5;124m</nc:edit-config>\u001b[39m\n\u001b[0;32m     15\u001b[0m \u001b[38;5;124m'''\u001b[39m\n\u001b[1;32m---> 17\u001b[0m response \u001b[38;5;241m=\u001b[39m \u001b[43mm\u001b[49m\u001b[38;5;241;43m.\u001b[39;49m\u001b[43mdispatch\u001b[49m\u001b[43m(\u001b[49m\u001b[43mto_ele\u001b[49m\u001b[43m(\u001b[49m\u001b[43mmessage\u001b[49m\u001b[43m)\u001b[49m\u001b[43m)\u001b[49m\n\u001b[0;32m     18\u001b[0m print_formatted(response\u001b[38;5;241m.\u001b[39mxml)\n\u001b[0;32m     19\u001b[0m chime\u001b[38;5;241m.\u001b[39msuccess()\n",
      "File \u001b[1;32mc:\\Users\\ehnxnsm\\repos\\yang-analysis\\.venv\\Lib\\site-packages\\ncclient\\manager.py:257\u001b[0m, in \u001b[0;36mManager.execute\u001b[1;34m(self, cls, *args, **kwds)\u001b[0m\n\u001b[0;32m    256\u001b[0m \u001b[38;5;28;01mdef\u001b[39;00m \u001b[38;5;21mexecute\u001b[39m(\u001b[38;5;28mself\u001b[39m, \u001b[38;5;28mcls\u001b[39m, \u001b[38;5;241m*\u001b[39margs, \u001b[38;5;241m*\u001b[39m\u001b[38;5;241m*\u001b[39mkwds):\n\u001b[1;32m--> 257\u001b[0m     \u001b[38;5;28;01mreturn\u001b[39;00m \u001b[38;5;28;43mcls\u001b[39;49m\u001b[43m(\u001b[49m\u001b[38;5;28;43mself\u001b[39;49m\u001b[38;5;241;43m.\u001b[39;49m\u001b[43m_session\u001b[49m\u001b[43m,\u001b[49m\n\u001b[0;32m    258\u001b[0m \u001b[43m               \u001b[49m\u001b[43mdevice_handler\u001b[49m\u001b[38;5;241;43m=\u001b[39;49m\u001b[38;5;28;43mself\u001b[39;49m\u001b[38;5;241;43m.\u001b[39;49m\u001b[43m_device_handler\u001b[49m\u001b[43m,\u001b[49m\n\u001b[0;32m    259\u001b[0m \u001b[43m               \u001b[49m\u001b[43masync_mode\u001b[49m\u001b[38;5;241;43m=\u001b[39;49m\u001b[38;5;28;43mself\u001b[39;49m\u001b[38;5;241;43m.\u001b[39;49m\u001b[43m_async_mode\u001b[49m\u001b[43m,\u001b[49m\n\u001b[0;32m    260\u001b[0m \u001b[43m               \u001b[49m\u001b[43mtimeout\u001b[49m\u001b[38;5;241;43m=\u001b[39;49m\u001b[38;5;28;43mself\u001b[39;49m\u001b[38;5;241;43m.\u001b[39;49m\u001b[43m_timeout\u001b[49m\u001b[43m,\u001b[49m\n\u001b[0;32m    261\u001b[0m \u001b[43m               \u001b[49m\u001b[43mraise_mode\u001b[49m\u001b[38;5;241;43m=\u001b[39;49m\u001b[38;5;28;43mself\u001b[39;49m\u001b[38;5;241;43m.\u001b[39;49m\u001b[43m_raise_mode\u001b[49m\u001b[43m,\u001b[49m\n\u001b[0;32m    262\u001b[0m \u001b[43m               \u001b[49m\u001b[43mhuge_tree\u001b[49m\u001b[38;5;241;43m=\u001b[39;49m\u001b[38;5;28;43mself\u001b[39;49m\u001b[38;5;241;43m.\u001b[39;49m\u001b[43m_huge_tree\u001b[49m\u001b[43m)\u001b[49m\u001b[38;5;241;43m.\u001b[39;49m\u001b[43mrequest\u001b[49m\u001b[43m(\u001b[49m\u001b[38;5;241;43m*\u001b[39;49m\u001b[43margs\u001b[49m\u001b[43m,\u001b[49m\u001b[43m \u001b[49m\u001b[38;5;241;43m*\u001b[39;49m\u001b[38;5;241;43m*\u001b[39;49m\u001b[43mkwds\u001b[49m\u001b[43m)\u001b[49m\n",
      "File \u001b[1;32mc:\\Users\\ehnxnsm\\repos\\yang-analysis\\.venv\\Lib\\site-packages\\ncclient\\operations\\retrieve.py:240\u001b[0m, in \u001b[0;36mDispatch.request\u001b[1;34m(self, rpc_command, source, filter)\u001b[0m\n\u001b[0;32m    237\u001b[0m \u001b[38;5;28;01mif\u001b[39;00m \u001b[38;5;28mfilter\u001b[39m \u001b[38;5;129;01mis\u001b[39;00m \u001b[38;5;129;01mnot\u001b[39;00m \u001b[38;5;28;01mNone\u001b[39;00m:\n\u001b[0;32m    238\u001b[0m     node\u001b[38;5;241m.\u001b[39mappend(util\u001b[38;5;241m.\u001b[39mbuild_filter(\u001b[38;5;28mfilter\u001b[39m))\n\u001b[1;32m--> 240\u001b[0m \u001b[38;5;28;01mreturn\u001b[39;00m \u001b[38;5;28;43mself\u001b[39;49m\u001b[38;5;241;43m.\u001b[39;49m\u001b[43m_request\u001b[49m\u001b[43m(\u001b[49m\u001b[43mnode\u001b[49m\u001b[43m)\u001b[49m\n",
      "File \u001b[1;32mc:\\Users\\ehnxnsm\\repos\\yang-analysis\\.venv\\Lib\\site-packages\\ncclient\\operations\\rpc.py:373\u001b[0m, in \u001b[0;36mRPC._request\u001b[1;34m(self, op)\u001b[0m\n\u001b[0;32m    371\u001b[0m errors \u001b[38;5;241m=\u001b[39m \u001b[38;5;28mself\u001b[39m\u001b[38;5;241m.\u001b[39m_reply\u001b[38;5;241m.\u001b[39merrors\n\u001b[0;32m    372\u001b[0m \u001b[38;5;28;01mif\u001b[39;00m \u001b[38;5;28mlen\u001b[39m(errors) \u001b[38;5;241m>\u001b[39m \u001b[38;5;241m1\u001b[39m:\n\u001b[1;32m--> 373\u001b[0m     \u001b[38;5;28;01mraise\u001b[39;00m RPCError(to_ele(\u001b[38;5;28mself\u001b[39m\u001b[38;5;241m.\u001b[39m_reply\u001b[38;5;241m.\u001b[39m_raw), errs\u001b[38;5;241m=\u001b[39merrors)\n\u001b[0;32m    374\u001b[0m \u001b[38;5;28;01melse\u001b[39;00m:\n\u001b[0;32m    375\u001b[0m     \u001b[38;5;28;01mraise\u001b[39;00m \u001b[38;5;28mself\u001b[39m\u001b[38;5;241m.\u001b[39m_reply\u001b[38;5;241m.\u001b[39merror\n",
      "\u001b[1;31mRPCError\u001b[0m: error: Name contains invalid character\nerror: Validation failed"
     ]
    }
   ],
   "source": [
    "message = '''\n",
    "<nc:edit-config xmlns:nc=\"urn:ietf:params:xml:ns:netconf:base:1.0\">\n",
    "  <nc:target>\n",
    "    <nc:running/>\n",
    "  </nc:target>\n",
    "  <nc:config>\n",
    "    <if:interfaces xmlns:if=\"urn:ietf:params:xml:ns:yang:ietf-interfaces\">\n",
    "      <if:interface>\n",
    "        <if:name>LAN 1/2/4</if:name>\n",
    "        <if:description>Tápiószecső</if:description>\n",
    "      </if:interface>\n",
    "    </if:interfaces>\n",
    "  </nc:config>\n",
    "</nc:edit-config>\n",
    "'''\n",
    "\n",
    "response = m.dispatch(to_ele(message))\n",
    "print_formatted(response.xml)\n",
    "chime.success()"
   ]
  }
 ],
 "metadata": {
  "kernelspec": {
   "display_name": ".venv",
   "language": "python",
   "name": "python3"
  },
  "language_info": {
   "codemirror_mode": {
    "name": "ipython",
    "version": 3
   },
   "file_extension": ".py",
   "mimetype": "text/x-python",
   "name": "python",
   "nbconvert_exporter": "python",
   "pygments_lexer": "ipython3",
   "version": "3.11.9"
  }
 },
 "nbformat": 4,
 "nbformat_minor": 2
}
